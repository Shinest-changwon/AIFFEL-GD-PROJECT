{
 "cells": [
  {
   "cell_type": "markdown",
   "id": "wrong-class",
   "metadata": {},
   "source": [
    "# 4-1. 들어가며\n",
    "![1](https://aiffelstaticprd.blob.core.windows.net/media/images/GC-2-P-1.max-800x600.jpg)  \n",
    "\n",
    "이번 시간에는 augmentation 기법을 적용해 ResNet-50을 학습시켜 보도록 하겠습니다. 텐서플로우의 랜덤 augmentation API를 사용해 보고, 최신 augmentation 기법을 익힌 뒤, 훈련 데이터셋의 augmentation 적용 여부에 따라 모델의 성능이 달라지는지 비교해 보겠습니다.  \n",
    "\n",
    "## 실습 목표\n",
    "***\n",
    "1. Augmentation을 모델 학습에 적용하기  \n",
    "2. Augmentation의 적용을 통한 학습 효과 확인하기  \n",
    "3. 최신 data augmentation 기법 구현 및 활용하기  \n",
    "\n",
    "## 학습 내용\n",
    "***\n",
    "1. Augmentation 적용 (1) 데이터 불러오기  \n",
    "2. Augmentation 적용 (2) Augmentation 적용하기  \n",
    "3. Augmentation 적용 (3) 비교 실험하기  \n",
    "4. 심화 기법 (1) Cutmix Augmentation  \n",
    "5. 심화 기법 (2) Mixup Augmentation  \n",
    "6. 프로젝트: CutMix 또는 Mixup 비교실험하기  \n",
    "\n",
    "## 준비물\n",
    "***\n",
    "`~/aiffel/data_augmentation` 폴더가 필요합니다. 아직 디렉토리가 없다면 터미널을 열고 개인 실습환경에 맞추어 경로를 변경, 디렉토리를 생성해 주세요.  \n",
    "$ mkdir -p ~/aiffel/data_augmentation/data"
   ]
  },
  {
   "cell_type": "markdown",
   "id": "induced-performer",
   "metadata": {},
   "source": [
    "***"
   ]
  },
  {
   "cell_type": "markdown",
   "id": "statistical-scholar",
   "metadata": {},
   "source": [
    "# 4-2. Augmentation 적용 (1) 데이터 불러오기\n",
    "\n",
    "이번 노드에서는 augmentation을 텐서플로우 모델 학습에 어떻게 적용할 수 있는지 공부하겠습니다. 지금까지 모델을 훈련시키기 전, 데이터를 전처리해 입력값으로 사용해 오셨을 것입니다. Augmentation도 이처럼 입력 이미지의 데이터를 변경해주는 과정이므로 일반적인 이미지 데이터 전처리 방법과 활용방법이 동일합니다. 먼저 필요한 라이브러리들을 불러와 줍니다.  \n",
    "\n",
    "`tensorflow_datasets`가 설치되어 있지 않다면, 아래 명령어로 설치해 주세요.  \n",
    "\n",
    "$ pip install tensorflow_datasets  "
   ]
  },
  {
   "cell_type": "code",
   "execution_count": 1,
   "id": "optimum-nigeria",
   "metadata": {},
   "outputs": [],
   "source": [
    "# TensorFlow and tf.keras\n",
    "import tensorflow as tf\n",
    "from tensorflow import keras\n",
    "\n",
    "# Helper libraries\n",
    "import numpy as np\n",
    "import matplotlib.pyplot as plt\n",
    "\n",
    "import tensorflow_datasets as tfds"
   ]
  },
  {
   "cell_type": "markdown",
   "id": "announced-implementation",
   "metadata": {},
   "source": [
    "전에는 항상 GPU 환경을 확인해 주세요."
   ]
  },
  {
   "cell_type": "code",
   "execution_count": 2,
   "id": "little-empty",
   "metadata": {},
   "outputs": [
    {
     "data": {
      "text/plain": [
       "[PhysicalDevice(name='/physical_device:GPU:0', device_type='GPU')]"
      ]
     },
     "execution_count": 2,
     "metadata": {},
     "output_type": "execute_result"
    }
   ],
   "source": [
    "tf.config.list_physical_devices('GPU')"
   ]
  },
  {
   "cell_type": "markdown",
   "id": "wound-carol",
   "metadata": {},
   "source": [
    "그리고 사용할 데이터셋을 불러옵니다. 이번 시간에는 `stanford_dogs` 데이터셋을 사용해보도록 합시다. `stanford_dogs` 데이터셋에는 120개 견종의 이미지가 포함되어 있습니다. 총 20,580장의 이미지에서 12,000장은 학습셋, 나머지 8,580장은 평가용 데이터셋입니다.  \n",
    "\n",
    "데이터를 처음 사용한다면 다운로드 받아야 하기 때문에 시간이 오래(10분 이상) 걸릴 수 있습니다. 당황하지 마시고 잠시 휴식 시간을 가져 보세요. 데이터셋은 다른 프로젝트에서도 사용할 수 있으니 프로젝트 디렉토리가 아닌 TensorFlow Datasets 기본 디렉토리에 저장합시다.  \n",
    "\n",
    "- [stanford_dogs of Tensorflow datasets](https://www.tensorflow.org/datasets/catalog/stanford_dogs)  \n",
    "\n"
   ]
  },
  {
   "cell_type": "code",
   "execution_count": 3,
   "id": "contained-guinea",
   "metadata": {},
   "outputs": [],
   "source": [
    "# import urllib3\n",
    "# urllib3.disable_warnings()\n",
    "# (ds_train, ds_test), ds_info = tfds.load(\n",
    "#     'stanford_dogs',\n",
    "#     split=['train', 'test'],\n",
    "#     shuffle_files=True,\n",
    "#     with_info=True,\n",
    "# )"
   ]
  },
  {
   "cell_type": "code",
   "execution_count": 4,
   "id": "allied-imaging",
   "metadata": {},
   "outputs": [],
   "source": [
    "# fig = tfds.show_examples(ds_train, ds_info)"
   ]
  },
  {
   "cell_type": "markdown",
   "id": "serious-staff",
   "metadata": {},
   "source": [
    "***"
   ]
  },
  {
   "cell_type": "markdown",
   "id": "basic-charm",
   "metadata": {},
   "source": [
    "# 4-3. Augmentation 적용 (2) Augmentation 적용하기  \n",
    "\n",
    "## 텐서플로우 Random Augmentation API 사용하기  \n",
    "***\n",
    "\n",
    "많은 augmentation 기법들이 있지만 그 중에서 텐서플로우 API로 바로 사용할 수 있는 방법들을 먼저 적용해 보겠습니다. 먼저 이미지셋에 대해서 랜덤한 확률로 바로 적용할 수 있는 augmentation 함수들은 아래와 같습니다.  \n",
    "\n",
    "- `random_brightness()`  \n",
    "- `random_contrast()`  \n",
    "- `random_crop()`  \n",
    "- `random_flip_left_right()`  \n",
    "- `random_flip_up_down()`  \n",
    "- `random_hue()`  \n",
    "- `random_jpeg_quality()`  \n",
    "- `random_saturation()`  \n",
    "\n",
    "그럼, Augmentation을 적용하기에 앞서 기본적인 전처리 함수를 만들어 줍시다."
   ]
  },
  {
   "cell_type": "code",
   "execution_count": 5,
   "id": "instrumental-cloud",
   "metadata": {},
   "outputs": [],
   "source": [
    "# def normalize_and_resize_img(image, label):\n",
    "#     \"\"\"Normalizes images: `uint8` -> `float32`.\"\"\"\n",
    "#     image = tf.image.resize(image, [224, 224])\n",
    "#     return tf.cast(image, tf.float32) / 255., label"
   ]
  },
  {
   "cell_type": "markdown",
   "id": "tropical-treasury",
   "metadata": {},
   "source": [
    "이미지를 변환하는 전처리 함수는 대략 다음과 같은 형태를 가지게 됩니다.   \n",
    "\n",
    "    def 전처리_함수(image, label):   # 변환할 이미지와 \n",
    "        # 이미지 변환 로직 적용\n",
    "        new_image = 이미지_변환(image)\n",
    "        return new_image, label"
   ]
  },
  {
   "cell_type": "markdown",
   "id": "chronic-equality",
   "metadata": {},
   "source": [
    "이렇게 되면 이미지 변환의 결과로 리턴받은 이미지를 그 다음 전처리 함수의 입력으로 연거푸 재사용할 수 있는 구조가 되어 편리합니다. 위에서 만든 기본적인 전처리 함수도 위와 같은 구조를 가지고 있습니다. 이 함수는 입력받은 이미지를 0~1 사이의 float32로 normalize하고, (224, 224) 사이즈로 resize합니다. 이 함수는 훈련용과 테스트용으로 사용될 모든 이미지에 적용될 것입니다.  \n",
    "\n",
    "맨 위에서 언급한 random augmentation들 중에서 `random_flip_left_right()`과 `random_brightness()`를 활용해 보겠습니다. \"flip\"의 경우 좌우 대칭을 해줍니다. 예컨대 이미지 분류 문제에서 개 이미지는 좌우를 대칭하더라도 문제가 생기지 않습니다. 따라서 좌우대칭의 적용을 통해 데이터를 늘릴 수 있도록 합니다. 여기서 상하대칭은 테스트 데이터셋의 이미지를 생각해볼 때 위아래가 뒤집힌 사진이 없으므로 도움이 되지 않을 것이라 적용하지 않습니다. 또 \"brightness\"를 조절하여 다양한 환경에서 얻어진 이미지에 대응할 수 있도록 하겠습니다.  "
   ]
  },
  {
   "cell_type": "code",
   "execution_count": 6,
   "id": "foreign-montana",
   "metadata": {},
   "outputs": [],
   "source": [
    "# def augment(image,label):\n",
    "#     image = tf.image.random_flip_left_right(image)\n",
    "#     image = tf.image.random_brightness(image, max_delta=0.2)\n",
    "#     return image,label"
   ]
  },
  {
   "cell_type": "markdown",
   "id": "viral-grace",
   "metadata": {},
   "source": [
    "오늘의 Augmentation을 통해 원본 데이터셋에 다양한 형태의 가공한 형태의 새로운 데이터셋을 얻게 되는 모든 과정을 구현한 메인 함수를 `apply_normalize_on_dataset()`로 정의하겠습니다.  \n",
    "여기서는 `apply_normalize_on_dataset()`를 통해서 일반적인 전처리 과정, 즉 normalize, resize, augmentation과 shuffle을 적용하도록 하겠습니다. 이때 주의해야할 점은 shuffle이나 augmentation은 테스트 데이터셋에는 적용하지 않아야 한다는 점입니다.  \n",
    "\n",
    "> 여러 결과를 조합하기 위한 앙상블(ensemble) 방법 중 하나로 테스트 데이터셋에 augmentation을 적용하는 test-time augmentation이라는 방법이 있습니다. 이는 캐글 등의 경쟁 머신러닝에 많이 사용되지만, 지금은 개념만 알아두어도 됩니다. 아래 링크에서 test-time augmentation에 관한 설명을 참고하세요.  \n",
    "> - [hwiyong님의 TTA(test time augmentation) with 케라스](https://hwiyong.tistory.com/215)  \n",
    "\n",
    "참고로, 이후에 수행할 비교실험을 위해서 `with_aug` 매개변수를 통해 augmentation의 적용여부를 결정할 수 있도록 하겠습니다.  \n",
    "- 참고: [tf.data.Datasets.map()](https://www.tensorflow.org/api_docs/python/tf/data/Dataset#map)  \n"
   ]
  },
  {
   "cell_type": "code",
   "execution_count": 7,
   "id": "voluntary-bubble",
   "metadata": {},
   "outputs": [],
   "source": [
    "# # 데이터셋(ds)을 가공하는 메인함수\n",
    "# def apply_normalize_on_dataset(ds, is_test=False, batch_size=16, with_aug=False):\n",
    "#     ds = ds.map(\n",
    "#         normalize_and_resize_img,  # 기본적인 전처리 함수 적용\n",
    "#         num_parallel_calls=2\n",
    "#     )\n",
    "#     if not is_test and with_aug:\n",
    "#         ds = ds.map(\n",
    "#             augment,       # augment 함수 적용\n",
    "#             num_parallel_calls=2\n",
    "#         )\n",
    "#     ds = ds.batch(batch_size)\n",
    "#     if not is_test:\n",
    "#         ds = ds.repeat()\n",
    "#         ds = ds.shuffle(200)\n",
    "#     ds = ds.prefetch(tf.data.experimental.AUTOTUNE)\n",
    "#     return ds"
   ]
  },
  {
   "cell_type": "markdown",
   "id": "static-netscape",
   "metadata": {},
   "source": [
    "## Random Augmentation 직접 구현하기\n",
    "***\n",
    "위에서는 미리 구현된 random augmentation을 적용하도록 `augment()` 함수를 작성했습니다. 이번에는 `tf.image`의 다양한 함수들을 이용해서 직접 다양한 augmentation 기법을 랜덤하게 적용하는 `augment2()` 함수를 작성해보세요.  "
   ]
  },
  {
   "cell_type": "code",
   "execution_count": 8,
   "id": "pregnant-grove",
   "metadata": {},
   "outputs": [],
   "source": [
    "# # make random augment function\n",
    "# def augment2(image,label):\n",
    "#     image = tf.image.central_crop(image, np.random.uniform(0.50, 1.00)) # 50%의 확률로 이미지 가운데 부분을 crop합니다.\n",
    "#     image = tf.image.resize(image, INPUT_SHAPE) # crop한 이미지를 원본 사이즈로 resize\n",
    "#     return image, label"
   ]
  },
  {
   "cell_type": "markdown",
   "id": "nervous-certificate",
   "metadata": {},
   "source": [
    "***"
   ]
  },
  {
   "cell_type": "markdown",
   "id": "specified-librarian",
   "metadata": {},
   "source": [
    "# 4-4. Augmentation 적용 (3) 비교실험 하기  \n",
    "\n",
    "이제 비교실험을 해보도록 하겠습니다. 우리가 비교해야 하는 것은 augmentation을 적용한 데이터를 학습시킨 모델과 적용하지 않은 데이터를 학습시킨 모델의 성능입니다. 새로운 augmentation이 떠오르셨다면 새로운 함수로 augmentation한 데이터와 아닌 데이터를 학습시켜서 어떤 효과가 있는지 실험을 통해 알아볼 수도 있습니다.  \n",
    "\n",
    "아래 코드는 텐서플로우 케라스의 `ResNet50` 중 `imagenet`에 훈련된 모델을 불러옵니다. `include_top`은 마지막 fully connected layer를 포함할지 여부입니다. 해당 레이어를 포함하지 않고 생성하면 특성 추출기(feature extractor) 부분만 불러와 우리의 필요에 맞게 수정된 fully connected layer를 붙여서 활용할 수 있습니다. 이렇게 하는 이유는 이미지넷(ImageNet)과 우리의 테스트셋이 서로 다른 클래스를 가지므로, 마지막에 추가해야 하는 fully connected layer의 구조(뉴런의 개수) 또한 다르기 때문입니다."
   ]
  },
  {
   "cell_type": "code",
   "execution_count": 9,
   "id": "exclusive-trading",
   "metadata": {},
   "outputs": [],
   "source": [
    "# num_classes = ds_info.features[\"label\"].num_classes\n",
    "# resnet50 = keras.models.Sequential([\n",
    "#     keras.applications.resnet.ResNet50(\n",
    "#         include_top=False,\n",
    "#         weights='imagenet',\n",
    "#         input_shape=(224, 224,3),\n",
    "#         pooling='avg',\n",
    "#     ),\n",
    "#     keras.layers.Dense(num_classes, activation = 'softmax')\n",
    "# ])"
   ]
  },
  {
   "cell_type": "markdown",
   "id": "german-cutting",
   "metadata": {},
   "source": [
    "Augmentation을 적용한 데이터셋으로 학습시킬 ResNet을 하나 더 만들어줍니다."
   ]
  },
  {
   "cell_type": "code",
   "execution_count": 10,
   "id": "genuine-pencil",
   "metadata": {},
   "outputs": [],
   "source": [
    "# aug_resnet50 = keras.models.Sequential([\n",
    "#     keras.applications.resnet.ResNet50(\n",
    "#         include_top=False,\n",
    "#         weights='imagenet',\n",
    "#         input_shape=(224, 224,3),\n",
    "#         pooling='avg',\n",
    "#     ),\n",
    "#     keras.layers.Dense(num_classes, activation = 'softmax')\n",
    "# ])"
   ]
  },
  {
   "cell_type": "markdown",
   "id": "adaptive-formation",
   "metadata": {},
   "source": [
    "텐서플로우 데이터셋에서 불러온 데이터에 하나는 `apply_normalize_on_dataset()`에서 `with_aug`를 `False`로 주어 augmentation이 적용되지 않도록 하고, 다른 하나는 True로 주어 augmentation이 적용되도록 합니다.  "
   ]
  },
  {
   "cell_type": "code",
   "execution_count": 11,
   "id": "mediterranean-joining",
   "metadata": {},
   "outputs": [],
   "source": [
    "# (ds_train, ds_test), ds_info = tfds.load(\n",
    "#     'stanford_dogs',\n",
    "#     split=['train', 'test'],\n",
    "#     as_supervised=True,\n",
    "#     shuffle_files=True,\n",
    "#     with_info=True,\n",
    "# )\n",
    "# ds_train_no_aug = apply_normalize_on_dataset(ds_train, with_aug=False)\n",
    "# ds_train_aug = apply_normalize_on_dataset(ds_train, with_aug=True)\n",
    "# ds_test = apply_normalize_on_dataset(ds_test, is_test = True)"
   ]
  },
  {
   "cell_type": "markdown",
   "id": "sought-interval",
   "metadata": {},
   "source": [
    "이제 두 개 모델에 각각 augmentation이 적용된 데이터셋과 적용되지 않은 데이터셋을 학습시키고, 검증을 진행합니다.  \n",
    "\n",
    "> 아래 학습은 EPOCH=20으로 진행시 GPU 기반으로 3~4시간 가량의 시간이 소요됩니다. Augmentation 적용 효과를 명확히 검증하기 위해서는 최소 이정도의 학습이 진행되어야 하지만, 원활한 학습 진행을 위해서 EPOCH=3 정도로 진행해 보기를 권합니다. 하지만 실제 프로젝트 단계에서는 꼭 충분한 학습이 진행되어야 합니다."
   ]
  },
  {
   "cell_type": "code",
   "execution_count": 12,
   "id": "clean-squad",
   "metadata": {},
   "outputs": [],
   "source": [
    "# #EPOCH = 20  # Augentation 적용 효과를 확인하기 위해 필요한 epoch 수\n",
    "# EPOCH = 3\n",
    "\n",
    "# tf.random.set_seed(2020)\n",
    "# resnet50.compile(\n",
    "#     loss='sparse_categorical_crossentropy',\n",
    "#     optimizer=tf.keras.optimizers.SGD(lr=0.01),\n",
    "#     metrics=['accuracy'],\n",
    "# )\n",
    "\n",
    "# aug_resnet50.compile(\n",
    "#     loss='sparse_categorical_crossentropy',\n",
    "#     optimizer=tf.keras.optimizers.SGD(lr=0.01),\n",
    "#     metrics=['accuracy'],\n",
    "# )\n",
    "\n",
    "# history_resnet50_no_aug = resnet50.fit(\n",
    "#     ds_train_no_aug, # augmentation 적용하지 않은 데이터셋 사용\n",
    "#     steps_per_epoch=int(ds_info.splits['train'].num_examples/16),\n",
    "#     validation_steps=int(ds_info.splits['test'].num_examples/16),\n",
    "#     epochs=EPOCH,\n",
    "#     validation_data=ds_test,\n",
    "#     verbose=1,\n",
    "#     use_multiprocessing=True,\n",
    "# )\n",
    "\n",
    "# history_resnet50_aug = aug_resnet50.fit(\n",
    "#     ds_train_aug, # augmentation 적용한 데이터셋 사용\n",
    "#     steps_per_epoch=int(ds_info.splits['train'].num_examples/16),\n",
    "#     validation_steps=int(ds_info.splits['test'].num_examples/16),\n",
    "#     epochs=EPOCH,\n",
    "#     validation_data=ds_test,\n",
    "#     verbose=1,\n",
    "#     use_multiprocessing=True,\n",
    "# )"
   ]
  },
  {
   "cell_type": "markdown",
   "id": "packed-traffic",
   "metadata": {},
   "source": [
    "훈련 과정을 시각화 해봅시다."
   ]
  },
  {
   "cell_type": "code",
   "execution_count": 13,
   "id": "published-appliance",
   "metadata": {},
   "outputs": [],
   "source": [
    "# plt.plot(history_resnet50_no_aug.history['val_accuracy'], 'r')\n",
    "# plt.plot(history_resnet50_aug.history['val_accuracy'], 'b')\n",
    "# plt.title('Model validation accuracy')\n",
    "# plt.ylabel('Accuracy')\n",
    "# plt.xlabel('Epoch')\n",
    "# plt.legend(['No Augmentation', 'With Augmentation'], loc='upper left')\n",
    "# plt.show()"
   ]
  },
  {
   "cell_type": "code",
   "execution_count": 14,
   "id": "incorporated-vitamin",
   "metadata": {},
   "outputs": [],
   "source": [
    "# plt.plot(history_resnet50_no_aug.history['val_accuracy'], 'r')\n",
    "# plt.plot(history_resnet50_aug.history['val_accuracy'], 'b')\n",
    "# plt.title('Model validation accuracy')\n",
    "# plt.ylabel('Accuracy')\n",
    "# plt.xlabel('Epoch')\n",
    "# plt.legend(['No Augmentation', 'With Augmentation'], loc='upper left')\n",
    "# plt.grid(True)\n",
    "# plt.ylim(0.72, 0.76)\n",
    "# plt.show()"
   ]
  },
  {
   "cell_type": "markdown",
   "id": "earned-comedy",
   "metadata": {},
   "source": [
    "참고로, `EPOCH=20`으로 수행해 본 두 모델의 훈련 과정 시각화한 내용은 아래 그림과 같습니다. Aumentation을 적용한 경우가 보다 천천히 학습되지만, EPOCH 10을 전후해서 `aug_resnet50`의 accuracy가 더 높게 형성되는 것을 확인할 수 있습니다.  \n",
    "\n",
    "![2](https://aiffelstaticprd.blob.core.windows.net/media/original_images/GC-2-P-result02.png)"
   ]
  },
  {
   "cell_type": "markdown",
   "id": "eastern-facial",
   "metadata": {},
   "source": [
    "***"
   ]
  },
  {
   "cell_type": "markdown",
   "id": "technical-boost",
   "metadata": {},
   "source": [
    "# 4-5. 심화 기법 (1) Cutmix Augmentation  \n",
    "\n",
    "지금부터 조금 더 복잡한 augmentation 방법을 알아보겠습니다. 첫 번째는 **CutMix augmentation**입니다.  \n",
    "> 주요 참고 자료\n",
    "> - [CutMix: Regularization Strategy to Train Strong Classifiers with Localizable Features](https://arxiv.org/pdf/1905.04899.pdf)  \n",
    "> - [Chris Deotte's CutMix and MixUp on GPU/TPU](https://www.kaggle.com/cdeotte/cutmix-and-mixup-on-gpu-tpu)  \n",
    "\n",
    "*CutMix*는 네이버 클로바(CLOVA)에서 발표한 *CutMix: Regularization Strategy to Train Strong Classifiers with Localizable Features*에서 제안된 방법입니다. 이름인 *CutMix*를 보고 유추할 수 있듯 이미지 데이터를 자르고 섞는다고 생각할 수 있습니다.  \n",
    "\n",
    "아래 표에서 ResNet-50 컬럼은 우리가 일반적으로 사용해왔던 방식을 나타냅니다. *Mixup*은 특정 비율로 픽셀별 값을 섞는 방식이고, *Cutout*은 이미지를 잘라내는 방식입니다.  *CutMix*는 Mixup과 비슷하지만 일정 영역을 잘라서 붙여주는 방법입니다. 차에 비유하면 블렌딩 같은 방법이죠.  \n",
    "\n",
    "두 번째 링크인 *Chris Deotte's CutMix and MixUp on GPU/TPU*에서는 캐글 그랜드마스터인 Chris Deotte가 구현한 *CutMix*와 *MixUp*을 확인 할 수 있습니다. 남은 스텝에서 *CutMix*와 *MixUp*을 구현하면서 참고하도록 합시다. 참고로 캐글에서 지금 참가하고 있는 대회와 비슷한 태스크의 경진대회가 있는 경우, 다른 사람들이 적용한 방법들을 찾아보는 것도 인사이트를 얻는 데 좋습니다.  \n",
    "\n",
    "*CutMix*는 이미지를 섞는 부분과 섞은 이미지에 맞추어 라벨을 섞는 부분을 포함합니다. 이제 한 부분씩 구현해 보겠습니다.  \n",
    "\n",
    "![3](https://aiffelstaticprd.blob.core.windows.net/media/images/GC-2-P-2.max-800x600.png)  \n",
    "\n",
    "## 1)이미지 섞기\n",
    "***\n",
    "가장 먼저 두 개의 이미지를 섞어주는 것부터 생각해 봅시다. 배치 내의 이미지를 두 개 골라서 섞어줍니다. 이때 이미지에서 잘라서 섞어주는 영역을 바운딩 박스(bounding box)라고 부릅니다.\n",
    "\n",
    "예시를 위해 훈련데이터셋에서 이미지 2개를 가져와 보겠습니다.\n",
    "\n",
    "아래 코드블록에 바운딩 박스의 위치를 랜덤하게 뽑고 이를 잘라내서 두 개의 이미지를 섞어주는 함수를 만들어 보세요! 이미지를 텐서로 만들어 텐서플로우 연산을 사용해 봅시다. 이때 이미지는 `tfds`에서 한 장을 뽑아서 사용해 보세요."
   ]
  },
  {
   "cell_type": "code",
   "execution_count": 15,
   "id": "dbcb26c0",
   "metadata": {},
   "outputs": [],
   "source": [
    "# # 삭제 예정\n",
    "# for i, (image, label) in enumerate(ds_train_no_aug.take(1)):\n",
    "#     if i == 0:\n",
    "#         image_a_ = image[0]\n",
    "#         image_b_ = image[1]\n",
    "#         label_a_ = label[0]\n",
    "#         label_b_ = label[1]\n",
    "#         break\n",
    "# print(type(image_a_))\n",
    "# print(type(label_a_))"
   ]
  },
  {
   "cell_type": "code",
   "execution_count": 16,
   "id": "korean-fashion",
   "metadata": {
    "scrolled": false
   },
   "outputs": [],
   "source": [
    "# import matplotlib.pyplot as plt\n",
    "\n",
    "# # 데이터셋에서 이미지 2개를 가져옵니다. \n",
    "# for i, (image, label) in enumerate(ds_train_no_aug.take(1)):\n",
    "#     if i == 0:\n",
    "#         image_a = image[0]\n",
    "#         image_b = image[1]\n",
    "#         label_a = label[0]\n",
    "#         label_b = label[1]\n",
    "#         image_c = image[2]\n",
    "#         label_c = label[2]\n",
    "#         break\n",
    "\n",
    "# plt.subplot(1,2,1)\n",
    "# plt.imshow(image_a)\n",
    "\n",
    "# plt.subplot(1,2,2)\n",
    "# plt.imshow(image_b)"
   ]
  },
  {
   "cell_type": "markdown",
   "id": "nervous-procedure",
   "metadata": {},
   "source": [
    "두 개의 이미지를 얻었습니다.  \n",
    "\n",
    "이 중 첫번째 이미지 a를 바탕 이미지로 하고 거기에 삽입할 두번째 이미지 b가 있을 때, a에 삽입될 영역의 바운딩 박스의 위치를 결정하는 함수를 먼저 구현해 봅시다.  \n",
    "\n",
    "이번 노드에서는 이미지 a, b가 모두 (224, 224)로 resize되어 두 이미지의 width, height가 같은 경우로 가정할 수 있지만, CutMix 공식 repo 에서는 width, height가 다르더라도 가변적으로 적용할 수 있도록 구현되어 있기 때문에, 임의의 이미지 사이즈에 대해서도 유연하게 대응 가능하도록 구현해 보겠습니다.  "
   ]
  },
  {
   "cell_type": "code",
   "execution_count": 17,
   "id": "minute-breathing",
   "metadata": {},
   "outputs": [],
   "source": [
    "def get_clip_box(image_a, image_b):\n",
    "    # image.shape = (height, width, channel)\n",
    "    image_size_x = image_a.shape[1]\n",
    "    image_size_y = image_a.shape[0]\n",
    "#     print('image_size_x: ', image_size_x)\n",
    "#     print('image_size_y: ', image_size_y)\n",
    "    \n",
    "    # get center of box\n",
    "    x = tf.cast( tf.random.uniform([],0, image_size_x),tf.int32)\n",
    "    y = tf.cast( tf.random.uniform([],0, image_size_y),tf.int32)\n",
    "#     print('x: ', x)\n",
    "#     print('y: ', y)\n",
    "    \n",
    "    # get width, height of box\n",
    "    width = tf.cast(image_size_x * tf.math.sqrt(1-tf.random.uniform([],0,1)),tf.int32)\n",
    "    height = tf.cast(image_size_y * tf.math.sqrt(1-tf.random.uniform([],0,1)),tf.int32)\n",
    "#     print('width: ', width)\n",
    "#     print('height: ', height)\n",
    "    \n",
    "    # clip box in image and get minmax bbox\n",
    "    xa = tf.math.maximum(0, x-width//2)\n",
    "    ya = tf.math.maximum(0, y-height//2)\n",
    "    xb = tf.math.minimum(image_size_x, x+width//2)\n",
    "    yb = tf.math.minimum(image_size_y, y+width//2)\n",
    "#     print('(xa,ya) = ({},{}), (xb, yb) = ({},{})'.format(xa,ya,xb,yb))\n",
    "    \n",
    "    return xa, ya, xb, yb\n",
    "\n",
    "# xa, ya, xb, yb = get_clip_box(image_a, image_b)\n",
    "# print(xa, ya, xb, yb)"
   ]
  },
  {
   "cell_type": "markdown",
   "id": "massive-congress",
   "metadata": {},
   "source": [
    "바탕이미지 a에서 바운딩 박스 바깥쪽 영역을, 다른 이미지 b에서 바운딩 박스 안쪽 영역을 가져와서 합치는 함수를 구현해 봅시다."
   ]
  },
  {
   "cell_type": "code",
   "execution_count": 18,
   "id": "concrete-decimal",
   "metadata": {},
   "outputs": [],
   "source": [
    "# mix two images\n",
    "def mix_2_images(image_a, image_b, xa, ya, xb, yb):\n",
    "    image_size_x = image_a.shape[1]\n",
    "    image_size_y = image_a.shape[0] \n",
    "    one = image_a[ya:yb,0:xa,:]\n",
    "    two = image_b[ya:yb,xa:xb,:]\n",
    "    three = image_a[ya:yb,xb:image_size_x,:]\n",
    "    middle = tf.concat([one,two,three],axis=1)\n",
    "    top = image_a[0:ya,:,:]\n",
    "    bottom = image_a[yb:image_size_y,:,:]\n",
    "    mixed_img = tf.concat([top, middle, bottom],axis=0)\n",
    "    \n",
    "    return mixed_img\n",
    "\n",
    "# mixed_img = mix_2_images(image_a, image_b, xa, ya, xb, yb)\n",
    "# plt.imshow(mixed_img.numpy())"
   ]
  },
  {
   "cell_type": "code",
   "execution_count": 19,
   "id": "bdf02f9c",
   "metadata": {},
   "outputs": [],
   "source": [
    "# # mix_2_images 함수 print 확인해보기\n",
    "\n",
    "# image_size_x = image_a.shape[1]\n",
    "# image_size_y = image_a.shape[0] \n",
    "# one = image_a[ya:yb,0:xa,:]\n",
    "# two = image_b[ya:yb,xa:xb,:]\n",
    "# three = image_a[ya:yb,xb:image_size_x,:]\n",
    "# top = image_a[0:ya,:,:]\n",
    "# bottom = image_a[yb:image_size_y,:,:]\n",
    "\n",
    "# # plt.figure(figsize=(10,10))\n",
    "\n",
    "# plt.subplot(1,5,1)\n",
    "# plt.imshow(one.numpy())\n",
    "\n",
    "# plt.subplot(1,5,2)\n",
    "# plt.imshow(two.numpy())\n",
    "\n",
    "# plt.subplot(1,5,3)\n",
    "# plt.imshow(three.numpy())\n",
    "\n",
    "# plt.subplot(1,5,4)\n",
    "# plt.imshow(top.numpy())\n",
    "\n",
    "# plt.subplot(1,5,5)\n",
    "# plt.imshow(bottom.numpy())"
   ]
  },
  {
   "cell_type": "code",
   "execution_count": 20,
   "id": "ec02c0fc",
   "metadata": {},
   "outputs": [],
   "source": [
    "# middle = tf.concat([one,two,three],axis=1)\n",
    "# # middel_axis0 = tf.concat([one,two,three],axis=0)\n",
    "\n",
    "# plt.subplot(1,2,1)\n",
    "# plt.imshow(middle.numpy())\n",
    "\n",
    "# # plt.subplot(1,2,2)\n",
    "# # plt.imshow(middel_axis0.numpy())"
   ]
  },
  {
   "cell_type": "markdown",
   "id": "sustainable-asian",
   "metadata": {},
   "source": [
    "## 2)라벨 섞기\n",
    "***\n",
    "\n",
    "\n",
    "이미지를 섞었다면 라벨도 이에 맞게 섞어주어야 합니다. 그림에서 볼 수 있듯, 우리가 강아지와 고양이의 이미지를 섞었다면 라벨 또한 적절한 비율로 섞여야 합니다.  \n",
    "\n",
    "CutMix에서는 면적에 비례해서 라벨을 섞어줍니다. 섞인 이미지의 전체 이미지 대비 비율을 계산해서 두 가지 라벨의 비율로 더해줍니다. 예를 들어 A 클래스를 가진 원래 이미지 `image_a`와 B 클래스를 가진 이미지 `image_b`를 섞을 때 `image_a`를 0.4만큼 섞었을 경우, 0.4만큼의 클래스 A, 0.6만큼의 클래스 B를 가지도록 해줍니다. 이때 라벨 벡터는 보통 클래스를 표시하듯 클래스 1개만 1의 값을 가지는 원-핫 인코딩이 아니라 A와 B 클래스에 해당하는 인덱스에 각각 0.4, 0.6을 배분하는 방식을 사용합니다.  \n",
    "\n",
    "위에서 섞인 이미지 두 가지에 대하여 라벨을 만들 때 적절한 비율로 라벨을 합쳐주는 함수를 구현해 봅시다.  "
   ]
  },
  {
   "cell_type": "code",
   "execution_count": 21,
   "id": "happy-siemens",
   "metadata": {},
   "outputs": [],
   "source": [
    "# mix two labels\n",
    "def mix_2_label(image_a, image_b,label_a, label_b, xa, ya, xb, yb, num_classes=120):\n",
    "    image_size_x = image_a.shape[1]\n",
    "    image_size_y = image_a.shape[0] \n",
    "    mixed_area = (xb-xa)*(yb-ya)\n",
    "    total_area = image_size_x*image_size_y\n",
    "    a = tf.cast(mixed_area/total_area, tf.float32)\n",
    "\n",
    "    if len(label_a.shape)==0:\n",
    "        label_a = tf.one_hot(label_a, num_classes)\n",
    "    if len(label_b.shape)==0:\n",
    "        label_b = tf.one_hot(label_b, num_classes)\n",
    "    mixed_label = (1-a)*label_a + a*label_b\n",
    "    return mixed_label\n",
    "\n",
    "# mixed_label = mix_2_label(label_a, label_b, xa, ya, xb, yb)\n",
    "# mixed_label"
   ]
  },
  {
   "cell_type": "markdown",
   "id": "naked-nightlife",
   "metadata": {},
   "source": [
    "이제 거의다 준비되었습니다.\n",
    "위에서 구현한 두 함수 `mix_2_images()`과 `mix_2_label()`을 활용하여 배치 단위의 `cutmix()` 함수를 구현해 봅시다."
   ]
  },
  {
   "cell_type": "code",
   "execution_count": 22,
   "id": "touched-refrigerator",
   "metadata": {},
   "outputs": [],
   "source": [
    "def cutmix(image, label, prob = 1.0, batch_size=16, img_size=224, num_classes=120):\n",
    "    mixed_imgs = []\n",
    "    mixed_labels = []\n",
    "\n",
    "    for i in range(batch_size):\n",
    "#         print('for문 동작 시작')\n",
    "        image_a = image[i]\n",
    "#         print(type(image_a))\n",
    "#         print('image_a 생성 완료')\n",
    "        label_a = label[i]\n",
    "#         print('label_a 생성 완료')\n",
    "        j = tf.cast(tf.random.uniform([],0, batch_size),tf.int32)\n",
    "        image_b = image[j]\n",
    "        label_b = label[j]\n",
    "        xa, ya, xb, yb = get_clip_box(image_a, image_b)\n",
    "        mixed_imgs.append(mix_2_images(image_a, image_b, xa, ya, xb, yb))\n",
    "        mixed_labels.append(mix_2_label(image_a, image_b, label_a, label_b, xa, ya, xb, yb))\n",
    "#     print('for문 동작 완료')\n",
    "    mixed_imgs = tf.reshape(tf.stack(mixed_imgs),(batch_size, img_size, img_size, 3))\n",
    "    mixed_labels = tf.reshape(tf.stack(mixed_labels),(batch_size, num_classes))\n",
    "#     print('reshape 완료')\n",
    "#     print(type(mixed_imgs))\n",
    "#     print(type(mixed_labels))\n",
    "    return mixed_imgs, mixed_labels"
   ]
  },
  {
   "cell_type": "code",
   "execution_count": 23,
   "id": "04e63622",
   "metadata": {},
   "outputs": [],
   "source": [
    "# def test_cutmix(image, label, prob = 1.0, batch_size=16, img_size=224, num_classes=120):\n",
    "#     tf.autograph.set_verbosity(0)\n",
    "#     mixed_imgs = []\n",
    "#     mixed_labels = [] \n",
    "#     image_a = image[0]\n",
    "#     print(type(image_a))\n",
    "#     print('image_a: ', image_a)\n",
    "#     print('image_a 생성 완료')\n",
    "# #     plt.imshow(tf.make_ndarray(image_a))\n",
    "# #     j = tf.cast(tf.random.uniform([],0, batch_size),tf.int32)\n",
    "#     label_a = label[0]\n",
    "# #     print(type(label_a))\n",
    "# # #     print(dir(label_a))\n",
    "# #     print('label 생성 완료')\n",
    "# #     print('label:',label_a)\n",
    "# #     image_b = image[1]\n",
    "# #     print(type(image_b))\n",
    "# #     print('image_b 생성 완료')\n",
    "# #     laebl_b = label[1]\n",
    "# #     print(type(laebl_b))\n",
    "# #     print('laebl_b 생성 완료')\n",
    "    \n",
    "# #     xa, ya, xb, yb = get_clip_box(image_a, image_b)\n",
    "# #     mixed_imgs.append(mix_2_images(image_a, image_b, xa, ya, xb, yb))\n",
    "# #     mixed_labels.append(mix_2_label(label_a, label_b, xa, ya, xb, yb))\n",
    "    \n",
    "# #     mixed_imgs = tf.reshape(tf.stack(mixed_imgs),(batch_size, img_size, img_size, 3))\n",
    "# #     mixed_labels = tf.reshape(tf.stack(mixed_labels),(batch_size, num_classes))\n",
    "    \n",
    "#     return image_a"
   ]
  },
  {
   "cell_type": "code",
   "execution_count": 24,
   "id": "84e646a4",
   "metadata": {},
   "outputs": [],
   "source": [
    "tf.autograph.set_verbosity(0)"
   ]
  },
  {
   "cell_type": "markdown",
   "id": "thrown-fellowship",
   "metadata": {},
   "source": [
    "***"
   ]
  },
  {
   "cell_type": "markdown",
   "id": "dental-challenge",
   "metadata": {},
   "source": [
    "# 4-6. 심화 기법 (2) Mixup Augmentation  \n",
    "> *주요 참고 자료*\n",
    "> - [*Mixup*: Beyond Empirical Risk Minimization](https://arxiv.org/abs/1710.09412) \n",
    "\n",
    "\n",
    "*Mixup* 은 위에서 보여드린 *Cutmix* 보다 간단하게 이미지와 라벨을 섞어줍니다. *Mixup*: Beyond Empirical Risk Minimization은 위에서 본 *Cutmix* 비교 표에서 \"Mixup\"이라는 방법이 제안된 논문입니다. 두 개 이미지의 픽셀별 값을 비율에 따라 섞어주는 방식으로 *Cutmix* 보다 구현이 간단하다고 볼 수 있습니다. 아래에서 직접 *Mixup* 함수를 구현해보세요!  \n",
    "\n",
    "두 이미지 쌍을 섞을 비율은 일정한 범위 내에서 랜덤하게 뽑고, 해당 비율값에 따라 두 이미지의 픽셀별 값과 라벨을 섞어주면 됩니다.  \n",
    "\n",
    "![3](https://aiffelstaticprd.blob.core.windows.net/media/images/GC-2-P-3.max-800x600.png)  "
   ]
  },
  {
   "cell_type": "code",
   "execution_count": 25,
   "id": "julian-diana",
   "metadata": {},
   "outputs": [],
   "source": [
    "# function for mixup\n",
    "def mixup_2_images(image_a, image_b, label_a, label_b):\n",
    "    a = tf.random.uniform([],0,1)\n",
    "    \n",
    "    if len(label_a.shape)==0:\n",
    "        label_a = tf.one_hot(label_a, num_classes)\n",
    "    if len(label_b.shape)==0:\n",
    "        label_b = tf.one_hot(label_b, num_classes)\n",
    "    mixed_image= (1-a)*image_a + a*image_b\n",
    "    mixed_label = (1-a)*label_a + a*label_b\n",
    "    \n",
    "    return mixed_image, mixed_label\n",
    "\n",
    "# mixed_img, _ = mixup_2_images(image_a, image_b, label_a, label_b)\n",
    "# plt.imshow(mixed_img.numpy())\n",
    "# print(mixed_label)"
   ]
  },
  {
   "cell_type": "markdown",
   "id": "christian-significance",
   "metadata": {},
   "source": [
    "그러면 위에서 구현한 함수를 활용하여 배치 단위의 mixup() 함수를 구현해 봅시다."
   ]
  },
  {
   "cell_type": "code",
   "execution_count": 26,
   "id": "agricultural-aerospace",
   "metadata": {},
   "outputs": [],
   "source": [
    "def mixup(image, label, prob = 1.0, batch_size=16, img_size=224, num_classes=120):\n",
    "    mixed_imgs = []\n",
    "    mixed_labels = []\n",
    "\n",
    "    for i in range(batch_size):\n",
    "        image_a = image[i]\n",
    "#         plt.imshow(image_a)\n",
    "        label_a = label[i]\n",
    "        j = tf.cast(tf.random.uniform([],0, batch_size),tf.int32)\n",
    "        image_b = image[j]\n",
    "        label_b = label[j]\n",
    "        mixed_img, mixed_label = mixup_2_images(image_a, image_b, label_a, label_b)\n",
    "        mixed_imgs.append(mixed_img)\n",
    "        mixed_labels.append(mixed_label)\n",
    "\n",
    "    mixed_imgs = tf.reshape(tf.stack(mixed_imgs),(batch_size, img_size, img_size, 3))\n",
    "    mixed_labels = tf.reshape(tf.stack(mixed_labels),(batch_size, num_classes))\n",
    "    return mixed_imgs, mixed_labels"
   ]
  },
  {
   "cell_type": "markdown",
   "id": "piano-month",
   "metadata": {},
   "source": [
    "***"
   ]
  },
  {
   "cell_type": "markdown",
   "id": "apart-activation",
   "metadata": {},
   "source": [
    "# 4-7. 프로젝트: CutMix 또는 Mixup 비교실험 하기\n",
    "지금까지 기본적인 augmentation 방법을 적용해 모델을 훈련시키고, 최신 augmentation 기법을 배워 보았습니다.  \n",
    "\n",
    "이번에는 최신 기법(*CutMix* 또는 *Mixup*)을 적용해 모델을 훈련시켜 봅시다. 데이터셋에 두 가지 방법 중 하나를 적용하고, 모델을 학습시켜 주세요. 결과를 수치화하고 비교하는 것도 잊지마세요!  \n",
    "\n",
    "\n",
    "## 1. Augmentation을 적용한 데이터셋 만들기  \n",
    "***\n",
    "이전 스텝과 아래 코드를 참고하여 데이터셋에 CutMix 또는 Mixup augmentation을 적용해 주세요.  \n",
    "\n",
    "> Q1. 아래는 CutMix를 적용할 수 있도록 변경한 `apply_normalize_on_dataset()`입니다. `batch()` 함수 뒤에 CutMix가 오도록 만들어야합니다. 그 이유가 뭘까요?  \n",
    "CutMix는 배치 안에 있는 이미지끼리만 섞는 과정이기 때문에, 미리 배치 단위로 데이터셋을 정렬 후 CutMix가 적용되어야 합니다."
   ]
  },
  {
   "cell_type": "code",
   "execution_count": 27,
   "id": "10447ae1",
   "metadata": {},
   "outputs": [],
   "source": [
    "def onehot(image, label):\n",
    "    num_classes = 120\n",
    "#     onehot_label = [0]*num_classes\n",
    "    onehot_label = tf.one_hot(label, num_classes)\n",
    "#     onehot_label[label] = 1\n",
    "# tf.reshape(tf.stack(onehot_label), (1920,))\n",
    "    return image, onehot_label"
   ]
  },
  {
   "cell_type": "code",
   "execution_count": 28,
   "id": "intelligent-bangladesh",
   "metadata": {},
   "outputs": [],
   "source": [
    "def normalize_and_resize_img(image, label):\n",
    "    \"\"\"Normalizes images: `uint8` -> `float32`.\"\"\"\n",
    "    image = tf.image.resize(image, [224, 224])\n",
    "    return tf.cast(image, tf.float32) / 255., label\n",
    "\n",
    "def augment(image,label):\n",
    "    image = tf.image.random_flip_left_right(image)\n",
    "    image = tf.image.random_brightness(image, max_delta=0.2)\n",
    "    return image,label\n",
    "\n",
    "def apply_normalize_on_dataset(ds, is_test=False, batch_size=16, with_aug=False, with_cutmix=False, with_mixup=False):\n",
    "    ds = ds.map(\n",
    "        normalize_and_resize_img, \n",
    "        num_parallel_calls=2\n",
    "    )\n",
    "    if not is_test and with_aug:\n",
    "        ds = ds.map(\n",
    "            augment\n",
    "        )\n",
    "        \n",
    "    ds = ds.batch(batch_size)\n",
    "    \n",
    "    if not with_cutmix and not with_mixup:\n",
    "        ds = ds.map(\n",
    "            onehot,\n",
    "            num_parallel_calls=2\n",
    "        )\n",
    "    \n",
    "    if not is_test and with_cutmix:\n",
    "        ds = ds.map(\n",
    "            cutmix,\n",
    "            num_parallel_calls=2\n",
    "        )\n",
    "\n",
    "    if not is_test and with_mixup:\n",
    "        ds = ds.map(\n",
    "            mixup,\n",
    "            num_parallel_calls=2\n",
    "        )\n",
    "    if not is_test:\n",
    "        ds = ds.repeat()\n",
    "        ds = ds.shuffle(200)\n",
    "    ds = ds.prefetch(tf.data.experimental.AUTOTUNE)\n",
    "    return ds"
   ]
  },
  {
   "cell_type": "markdown",
   "id": "a80d63bf",
   "metadata": {},
   "source": [
    "## 2. 모델 만들기\n",
    "***\n",
    "앞서 만들었던 것처럼 비교실험을 위한 모델 두 개를 만들어 주세요. 모델은 ResNet-50을 사용합시다.  "
   ]
  },
  {
   "cell_type": "code",
   "execution_count": 29,
   "id": "7abc006a",
   "metadata": {},
   "outputs": [],
   "source": [
    "(ds_train, ds_test), ds_info = tfds.load(\n",
    "    'stanford_dogs',\n",
    "    split=['train', 'test'],\n",
    "    as_supervised=True,\n",
    "    shuffle_files=True,\n",
    "    with_info=True,\n",
    ")"
   ]
  },
  {
   "cell_type": "code",
   "execution_count": 30,
   "id": "bdb1e8c7",
   "metadata": {},
   "outputs": [],
   "source": [
    "# 1. No augmentation\n",
    "\n",
    "num_classes = ds_info.features[\"label\"].num_classes\n",
    "resnet50 = keras.models.Sequential([\n",
    "    keras.applications.resnet.ResNet50(\n",
    "        include_top=False,\n",
    "        weights='imagenet',\n",
    "        input_shape=(224, 224,3),\n",
    "        pooling='avg',\n",
    "    ),\n",
    "    keras.layers.Dense(num_classes, activation = 'softmax')\n",
    "])"
   ]
  },
  {
   "cell_type": "code",
   "execution_count": 31,
   "id": "c59e58ac",
   "metadata": {},
   "outputs": [],
   "source": [
    "# 2. 기본 Augmentation\n",
    "\n",
    "aug_resnet50 = keras.models.Sequential([\n",
    "    keras.applications.resnet.ResNet50(\n",
    "        include_top=False,\n",
    "        weights='imagenet',\n",
    "        input_shape=(224, 224,3),\n",
    "        pooling='avg',\n",
    "    ),\n",
    "    keras.layers.Dense(num_classes, activation = 'softmax')\n",
    "])"
   ]
  },
  {
   "cell_type": "code",
   "execution_count": 32,
   "id": "d88a8571",
   "metadata": {},
   "outputs": [],
   "source": [
    "# 3. 기본 + CutMix 적용\n",
    "\n",
    "cutmix_resnet50 = keras.models.Sequential([\n",
    "    keras.applications.resnet.ResNet50(\n",
    "        include_top=False,\n",
    "        weights='imagenet',\n",
    "        input_shape=(224, 224,3),\n",
    "        pooling='avg',\n",
    "    ),\n",
    "    keras.layers.Dense(num_classes, activation = 'softmax')\n",
    "])"
   ]
  },
  {
   "cell_type": "code",
   "execution_count": 33,
   "id": "8aa251bb",
   "metadata": {},
   "outputs": [],
   "source": [
    "# 4. 기본 + Mixup\n",
    "\n",
    "mixup_resnet50 = keras.models.Sequential([\n",
    "    keras.applications.resnet.ResNet50(\n",
    "        include_top=False,\n",
    "        weights='imagenet',\n",
    "        input_shape=(224, 224,3),\n",
    "        pooling='avg',\n",
    "    ),\n",
    "    keras.layers.Dense(num_classes, activation = 'softmax')\n",
    "])"
   ]
  },
  {
   "cell_type": "code",
   "execution_count": 34,
   "id": "b956c88e",
   "metadata": {
    "scrolled": true
   },
   "outputs": [
    {
     "name": "stdout",
     "output_type": "stream",
     "text": [
      "WARNING:tensorflow:AutoGraph could not transform <function cutmix at 0x7fa9f90cc830> and will run it as-is.\n",
      "Please report this to the TensorFlow team. When filing the bug, set the verbosity to 10 (on Linux, `export AUTOGRAPH_VERBOSITY=10`) and attach the full output.\n",
      "Cause: module 'gast' has no attribute 'Index'\n",
      "To silence this warning, decorate the function with @tf.autograph.experimental.do_not_convert\n"
     ]
    },
    {
     "name": "stderr",
     "output_type": "stream",
     "text": [
      "WARNING:tensorflow:AutoGraph could not transform <function cutmix at 0x7fa9f90cc830> and will run it as-is.\n",
      "Please report this to the TensorFlow team. When filing the bug, set the verbosity to 10 (on Linux, `export AUTOGRAPH_VERBOSITY=10`) and attach the full output.\n",
      "Cause: module 'gast' has no attribute 'Index'\n",
      "To silence this warning, decorate the function with @tf.autograph.experimental.do_not_convert\n"
     ]
    },
    {
     "name": "stdout",
     "output_type": "stream",
     "text": [
      "WARNING:tensorflow:AutoGraph could not transform <function mixup at 0x7faa02f19710> and will run it as-is.\n",
      "Please report this to the TensorFlow team. When filing the bug, set the verbosity to 10 (on Linux, `export AUTOGRAPH_VERBOSITY=10`) and attach the full output.\n",
      "Cause: module 'gast' has no attribute 'Index'\n",
      "To silence this warning, decorate the function with @tf.autograph.experimental.do_not_convert\n"
     ]
    },
    {
     "name": "stderr",
     "output_type": "stream",
     "text": [
      "WARNING:tensorflow:AutoGraph could not transform <function mixup at 0x7faa02f19710> and will run it as-is.\n",
      "Please report this to the TensorFlow team. When filing the bug, set the verbosity to 10 (on Linux, `export AUTOGRAPH_VERBOSITY=10`) and attach the full output.\n",
      "Cause: module 'gast' has no attribute 'Index'\n",
      "To silence this warning, decorate the function with @tf.autograph.experimental.do_not_convert\n"
     ]
    }
   ],
   "source": [
    "ds_train_no_aug = apply_normalize_on_dataset(ds_train)\n",
    "ds_train_aug = apply_normalize_on_dataset(ds_train, with_aug=True)\n",
    "ds_train_cutmix = apply_normalize_on_dataset(ds_train, with_cutmix=True)\n",
    "ds_train_mixup = apply_normalize_on_dataset(ds_train, with_mixup=True)\n",
    "\n",
    "ds_test = apply_normalize_on_dataset(ds_test, is_test=True)"
   ]
  },
  {
   "cell_type": "markdown",
   "id": "509dae01",
   "metadata": {},
   "source": [
    "## 3. 모델 훈련하기\n",
    "***\n",
    "모델을 훈련시켜 주세요.  \n",
    "\n",
    "힌트: 위에서 만든 CutMix나 Mixup을 사용하기 위해서는 앞에서 `resnet50`과 `aug_resnet50`을 훈련하는 데 사용했던 `sparse_categorical_crossentropy()` 대신 `categorical_crossentropy()`를 사용해주세요!  \n",
    "\n",
    "> Q3. `sparse_categorical_crossentropy()`를 사용하지 못하는 이유는 뭘까요?\n"
   ]
  },
  {
   "cell_type": "code",
   "execution_count": 35,
   "id": "949b6bbf",
   "metadata": {
    "scrolled": false
   },
   "outputs": [
    {
     "name": "stdout",
     "output_type": "stream",
     "text": [
      "Model: \"sequential_2\"\n",
      "_________________________________________________________________\n",
      "Layer (type)                 Output Shape              Param #   \n",
      "=================================================================\n",
      "resnet50 (Functional)        (None, 2048)              23587712  \n",
      "_________________________________________________________________\n",
      "dense_2 (Dense)              (None, 120)               245880    \n",
      "=================================================================\n",
      "Total params: 23,833,592\n",
      "Trainable params: 23,780,472\n",
      "Non-trainable params: 53,120\n",
      "_________________________________________________________________\n",
      "Model: \"sequential_3\"\n",
      "_________________________________________________________________\n",
      "Layer (type)                 Output Shape              Param #   \n",
      "=================================================================\n",
      "resnet50 (Functional)        (None, 2048)              23587712  \n",
      "_________________________________________________________________\n",
      "dense_3 (Dense)              (None, 120)               245880    \n",
      "=================================================================\n",
      "Total params: 23,833,592\n",
      "Trainable params: 23,780,472\n",
      "Non-trainable params: 53,120\n",
      "_________________________________________________________________\n",
      "cutmix 학습 시작\n",
      "Epoch 1/40\n",
      "750/750 [==============================] - 175s 154ms/step - loss: 4.3630 - accuracy: 0.1107 - val_loss: 3.7316 - val_accuracy: 0.1676\n",
      "Epoch 2/40\n",
      "750/750 [==============================] - 115s 153ms/step - loss: 3.0549 - accuracy: 0.3953 - val_loss: 1.4236 - val_accuracy: 0.6072\n",
      "Epoch 3/40\n",
      "750/750 [==============================] - 115s 153ms/step - loss: 2.7337 - accuracy: 0.4998 - val_loss: 1.2181 - val_accuracy: 0.6501\n",
      "Epoch 4/40\n",
      "750/750 [==============================] - 115s 154ms/step - loss: 2.4938 - accuracy: 0.5781 - val_loss: 1.1474 - val_accuracy: 0.6762\n",
      "Epoch 5/40\n",
      "750/750 [==============================] - 118s 158ms/step - loss: 2.3417 - accuracy: 0.6191 - val_loss: 1.2833 - val_accuracy: 0.6514\n",
      "Epoch 6/40\n",
      "750/750 [==============================] - 117s 156ms/step - loss: 2.2368 - accuracy: 0.6600 - val_loss: 1.1931 - val_accuracy: 0.6768\n",
      "Epoch 7/40\n",
      "750/750 [==============================] - 113s 151ms/step - loss: 2.1039 - accuracy: 0.7032 - val_loss: 1.1031 - val_accuracy: 0.7008\n",
      "Epoch 8/40\n",
      "750/750 [==============================] - 113s 150ms/step - loss: 2.0544 - accuracy: 0.7178 - val_loss: 1.2458 - val_accuracy: 0.6705\n",
      "Epoch 9/40\n",
      "750/750 [==============================] - 113s 150ms/step - loss: 1.9806 - accuracy: 0.7389 - val_loss: 1.2587 - val_accuracy: 0.6764\n",
      "Epoch 10/40\n",
      "750/750 [==============================] - 113s 150ms/step - loss: 1.9186 - accuracy: 0.7546 - val_loss: 1.5280 - val_accuracy: 0.6181\n",
      "Epoch 11/40\n",
      "750/750 [==============================] - 113s 150ms/step - loss: 1.8461 - accuracy: 0.7737 - val_loss: 1.2383 - val_accuracy: 0.6898\n",
      "Epoch 12/40\n",
      "750/750 [==============================] - 113s 150ms/step - loss: 1.7935 - accuracy: 0.7817 - val_loss: 1.2836 - val_accuracy: 0.6825\n",
      "Epoch 13/40\n",
      "750/750 [==============================] - 113s 150ms/step - loss: 1.7760 - accuracy: 0.7862 - val_loss: 1.2847 - val_accuracy: 0.6716\n",
      "Epoch 14/40\n",
      "750/750 [==============================] - 113s 150ms/step - loss: 1.7800 - accuracy: 0.7826 - val_loss: 1.3321 - val_accuracy: 0.6716\n",
      "Epoch 15/40\n",
      "750/750 [==============================] - 111s 149ms/step - loss: 1.7282 - accuracy: 0.7977 - val_loss: 1.4481 - val_accuracy: 0.6502\n",
      "Epoch 16/40\n",
      "750/750 [==============================] - 111s 148ms/step - loss: 1.6845 - accuracy: 0.7997 - val_loss: 1.3442 - val_accuracy: 0.6679\n",
      "Epoch 17/40\n",
      "750/750 [==============================] - 111s 148ms/step - loss: 1.6592 - accuracy: 0.8043 - val_loss: 1.4289 - val_accuracy: 0.6452\n",
      "Epoch 18/40\n",
      "750/750 [==============================] - 111s 148ms/step - loss: 1.6663 - accuracy: 0.8064 - val_loss: 1.5632 - val_accuracy: 0.6411\n",
      "Epoch 19/40\n",
      "750/750 [==============================] - 111s 148ms/step - loss: 1.6035 - accuracy: 0.8174 - val_loss: 1.5860 - val_accuracy: 0.6237\n",
      "Epoch 20/40\n",
      "750/750 [==============================] - 111s 148ms/step - loss: 1.6020 - accuracy: 0.8167 - val_loss: 1.5667 - val_accuracy: 0.6407\n",
      "Epoch 21/40\n",
      "750/750 [==============================] - 111s 148ms/step - loss: 1.5669 - accuracy: 0.8267 - val_loss: 1.5607 - val_accuracy: 0.6267\n",
      "Epoch 22/40\n",
      "750/750 [==============================] - 111s 148ms/step - loss: 1.5621 - accuracy: 0.8200 - val_loss: 1.4244 - val_accuracy: 0.6730\n",
      "Epoch 23/40\n",
      "750/750 [==============================] - 111s 148ms/step - loss: 1.5509 - accuracy: 0.8283 - val_loss: 1.4312 - val_accuracy: 0.6705\n",
      "Epoch 24/40\n",
      "750/750 [==============================] - 111s 148ms/step - loss: 1.5093 - accuracy: 0.8292 - val_loss: 1.4717 - val_accuracy: 0.6602\n",
      "Epoch 25/40\n",
      "750/750 [==============================] - 111s 148ms/step - loss: 1.5151 - accuracy: 0.8248 - val_loss: 1.4631 - val_accuracy: 0.6642\n",
      "Epoch 26/40\n",
      "750/750 [==============================] - 111s 148ms/step - loss: 1.5048 - accuracy: 0.8241 - val_loss: 1.5590 - val_accuracy: 0.6518\n",
      "Epoch 27/40\n",
      "750/750 [==============================] - 111s 148ms/step - loss: 1.4828 - accuracy: 0.8328 - val_loss: 1.5335 - val_accuracy: 0.6498\n",
      "Epoch 28/40\n",
      "750/750 [==============================] - 111s 148ms/step - loss: 1.4731 - accuracy: 0.8313 - val_loss: 1.3725 - val_accuracy: 0.6813\n",
      "Epoch 29/40\n",
      "750/750 [==============================] - 111s 148ms/step - loss: 1.4511 - accuracy: 0.8307 - val_loss: 1.8165 - val_accuracy: 0.6016\n",
      "Epoch 30/40\n",
      "750/750 [==============================] - 111s 148ms/step - loss: 1.4425 - accuracy: 0.8194 - val_loss: 1.3612 - val_accuracy: 0.6911\n",
      "Epoch 31/40\n",
      "750/750 [==============================] - 111s 148ms/step - loss: 1.4313 - accuracy: 0.8369 - val_loss: 1.3945 - val_accuracy: 0.6880\n",
      "Epoch 32/40\n",
      "750/750 [==============================] - 111s 148ms/step - loss: 1.4272 - accuracy: 0.8247 - val_loss: 1.4933 - val_accuracy: 0.6679\n",
      "Epoch 33/40\n",
      "750/750 [==============================] - 111s 148ms/step - loss: 1.4008 - accuracy: 0.8363 - val_loss: 1.5327 - val_accuracy: 0.6567\n",
      "Epoch 34/40\n",
      "750/750 [==============================] - 111s 148ms/step - loss: 1.4031 - accuracy: 0.8354 - val_loss: 1.3732 - val_accuracy: 0.6876\n",
      "Epoch 35/40\n",
      "750/750 [==============================] - 111s 148ms/step - loss: 1.3890 - accuracy: 0.8390 - val_loss: 1.3457 - val_accuracy: 0.6994\n",
      "Epoch 36/40\n",
      "750/750 [==============================] - 111s 148ms/step - loss: 1.3801 - accuracy: 0.8398 - val_loss: 1.5197 - val_accuracy: 0.6606\n",
      "Epoch 37/40\n",
      "750/750 [==============================] - 111s 148ms/step - loss: 1.3545 - accuracy: 0.8459 - val_loss: 1.6487 - val_accuracy: 0.6392\n",
      "Epoch 38/40\n",
      "750/750 [==============================] - 111s 148ms/step - loss: 1.3634 - accuracy: 0.8427 - val_loss: 1.4436 - val_accuracy: 0.6790\n",
      "Epoch 39/40\n",
      "750/750 [==============================] - 115s 153ms/step - loss: 1.3410 - accuracy: 0.8443 - val_loss: 1.7039 - val_accuracy: 0.6297\n",
      "Epoch 40/40\n",
      "750/750 [==============================] - 113s 151ms/step - loss: 1.3278 - accuracy: 0.8492 - val_loss: 1.5285 - val_accuracy: 0.6810\n",
      "cutmix 학습 종료\n",
      "mixup 학습 시작\n",
      "Epoch 1/40\n",
      "750/750 [==============================] - 119s 153ms/step - loss: 4.2884 - accuracy: 0.1292 - val_loss: 4.3101 - val_accuracy: 0.0912\n",
      "Epoch 2/40\n",
      "750/750 [==============================] - 114s 152ms/step - loss: 2.9712 - accuracy: 0.4405 - val_loss: 1.4943 - val_accuracy: 0.5887\n",
      "Epoch 3/40\n",
      "750/750 [==============================] - 114s 152ms/step - loss: 2.6454 - accuracy: 0.5608 - val_loss: 1.4927 - val_accuracy: 0.5887\n",
      "Epoch 4/40\n",
      "750/750 [==============================] - 115s 153ms/step - loss: 2.4425 - accuracy: 0.6329 - val_loss: 1.2895 - val_accuracy: 0.6405\n",
      "Epoch 5/40\n",
      "750/750 [==============================] - 115s 153ms/step - loss: 2.3223 - accuracy: 0.6754 - val_loss: 1.2461 - val_accuracy: 0.6613\n",
      "Epoch 6/40\n",
      "750/750 [==============================] - 115s 153ms/step - loss: 2.2162 - accuracy: 0.7251 - val_loss: 1.2053 - val_accuracy: 0.6736\n",
      "Epoch 7/40\n",
      "750/750 [==============================] - 113s 151ms/step - loss: 2.1350 - accuracy: 0.7477 - val_loss: 1.1849 - val_accuracy: 0.6802\n"
     ]
    },
    {
     "name": "stdout",
     "output_type": "stream",
     "text": [
      "Epoch 8/40\n",
      "750/750 [==============================] - 112s 149ms/step - loss: 2.0679 - accuracy: 0.7795 - val_loss: 1.2129 - val_accuracy: 0.6784\n",
      "Epoch 9/40\n",
      "750/750 [==============================] - 112s 149ms/step - loss: 1.9828 - accuracy: 0.8047 - val_loss: 1.1832 - val_accuracy: 0.6793\n",
      "Epoch 10/40\n",
      "750/750 [==============================] - 112s 149ms/step - loss: 1.9497 - accuracy: 0.8139 - val_loss: 1.2575 - val_accuracy: 0.6586\n",
      "Epoch 11/40\n",
      "750/750 [==============================] - 112s 149ms/step - loss: 1.9501 - accuracy: 0.8150 - val_loss: 1.2595 - val_accuracy: 0.6697\n",
      "Epoch 12/40\n",
      "750/750 [==============================] - 112s 149ms/step - loss: 1.9156 - accuracy: 0.8321 - val_loss: 1.3111 - val_accuracy: 0.6538\n",
      "Epoch 13/40\n",
      "750/750 [==============================] - 112s 149ms/step - loss: 1.8648 - accuracy: 0.8348 - val_loss: 1.2711 - val_accuracy: 0.6680\n",
      "Epoch 14/40\n",
      "750/750 [==============================] - 112s 149ms/step - loss: 1.8408 - accuracy: 0.8441 - val_loss: 1.3420 - val_accuracy: 0.6553\n",
      "Epoch 15/40\n",
      "750/750 [==============================] - 112s 149ms/step - loss: 1.8041 - accuracy: 0.8540 - val_loss: 1.3190 - val_accuracy: 0.6588\n",
      "Epoch 16/40\n",
      "750/750 [==============================] - 112s 149ms/step - loss: 1.8128 - accuracy: 0.8542 - val_loss: 1.2836 - val_accuracy: 0.6781\n",
      "Epoch 17/40\n",
      "750/750 [==============================] - 112s 149ms/step - loss: 1.7513 - accuracy: 0.8650 - val_loss: 1.2616 - val_accuracy: 0.6813\n",
      "Epoch 18/40\n",
      "750/750 [==============================] - 112s 149ms/step - loss: 1.7587 - accuracy: 0.8627 - val_loss: 1.2971 - val_accuracy: 0.6746\n",
      "Epoch 19/40\n",
      "750/750 [==============================] - 112s 149ms/step - loss: 1.7665 - accuracy: 0.8501 - val_loss: 1.2535 - val_accuracy: 0.6817\n",
      "Epoch 20/40\n",
      "750/750 [==============================] - 112s 149ms/step - loss: 1.7708 - accuracy: 0.8556 - val_loss: 1.3305 - val_accuracy: 0.6683\n",
      "Epoch 21/40\n",
      "750/750 [==============================] - 112s 149ms/step - loss: 1.7320 - accuracy: 0.8649 - val_loss: 1.3314 - val_accuracy: 0.6663\n",
      "Epoch 22/40\n",
      "750/750 [==============================] - 112s 149ms/step - loss: 1.7079 - accuracy: 0.8590 - val_loss: 1.3336 - val_accuracy: 0.6728\n",
      "Epoch 23/40\n",
      "750/750 [==============================] - 112s 149ms/step - loss: 1.6953 - accuracy: 0.8690 - val_loss: 1.2856 - val_accuracy: 0.6875\n",
      "Epoch 24/40\n",
      "750/750 [==============================] - 112s 149ms/step - loss: 1.6892 - accuracy: 0.8704 - val_loss: 1.3493 - val_accuracy: 0.6765\n",
      "Epoch 25/40\n",
      "750/750 [==============================] - 112s 149ms/step - loss: 1.6626 - accuracy: 0.8665 - val_loss: 1.4161 - val_accuracy: 0.6562\n",
      "Epoch 26/40\n",
      "750/750 [==============================] - 112s 149ms/step - loss: 1.6625 - accuracy: 0.8688 - val_loss: 1.3583 - val_accuracy: 0.6706\n",
      "Epoch 27/40\n",
      "750/750 [==============================] - 112s 149ms/step - loss: 1.6307 - accuracy: 0.8759 - val_loss: 1.4121 - val_accuracy: 0.6529\n",
      "Epoch 28/40\n",
      "750/750 [==============================] - 112s 149ms/step - loss: 1.6506 - accuracy: 0.8737 - val_loss: 1.4455 - val_accuracy: 0.6467\n",
      "Epoch 29/40\n",
      "750/750 [==============================] - 112s 149ms/step - loss: 1.6266 - accuracy: 0.8805 - val_loss: 1.3837 - val_accuracy: 0.6625\n",
      "Epoch 30/40\n",
      "750/750 [==============================] - 112s 149ms/step - loss: 1.6282 - accuracy: 0.8822 - val_loss: 1.3289 - val_accuracy: 0.6743\n",
      "Epoch 31/40\n",
      "750/750 [==============================] - 112s 149ms/step - loss: 1.6079 - accuracy: 0.8779 - val_loss: 1.3948 - val_accuracy: 0.6643\n",
      "Epoch 32/40\n",
      "750/750 [==============================] - 112s 149ms/step - loss: 1.6225 - accuracy: 0.8714 - val_loss: 1.4105 - val_accuracy: 0.6679\n",
      "Epoch 33/40\n",
      "750/750 [==============================] - 112s 149ms/step - loss: 1.6053 - accuracy: 0.8777 - val_loss: 1.3879 - val_accuracy: 0.6804\n",
      "Epoch 34/40\n",
      "750/750 [==============================] - 112s 149ms/step - loss: 1.5703 - accuracy: 0.8813 - val_loss: 1.4076 - val_accuracy: 0.6730\n",
      "Epoch 35/40\n",
      "750/750 [==============================] - 112s 149ms/step - loss: 1.5705 - accuracy: 0.8797 - val_loss: 1.4326 - val_accuracy: 0.6606\n",
      "Epoch 36/40\n",
      "750/750 [==============================] - 112s 149ms/step - loss: 1.5487 - accuracy: 0.8850 - val_loss: 1.3167 - val_accuracy: 0.6807\n",
      "Epoch 37/40\n",
      "750/750 [==============================] - 112s 149ms/step - loss: 1.5735 - accuracy: 0.8788 - val_loss: 1.4788 - val_accuracy: 0.6452\n",
      "Epoch 38/40\n",
      "750/750 [==============================] - 112s 149ms/step - loss: 1.5382 - accuracy: 0.8864 - val_loss: 1.5684 - val_accuracy: 0.6320\n",
      "Epoch 39/40\n",
      "750/750 [==============================] - 112s 149ms/step - loss: 1.5438 - accuracy: 0.8804 - val_loss: 1.4141 - val_accuracy: 0.6672\n",
      "Epoch 40/40\n",
      "750/750 [==============================] - 112s 149ms/step - loss: 1.5226 - accuracy: 0.8921 - val_loss: 1.4871 - val_accuracy: 0.6495\n",
      "mixup 학습 종료\n"
     ]
    }
   ],
   "source": [
    "EPOCH = 40\n",
    "\n",
    "tf.random.set_seed(2020)\n",
    "\n",
    "cutmix_resnet50.compile(\n",
    "    loss='categorical_crossentropy',\n",
    "    optimizer=tf.keras.optimizers.SGD(lr=0.01),\n",
    "    metrics=['accuracy']\n",
    ")\n",
    "cutmix_resnet50.summary()\n",
    "\n",
    "mixup_resnet50.compile(\n",
    "    loss='categorical_crossentropy',\n",
    "    optimizer=tf.keras.optimizers.SGD(lr=0.01),\n",
    "    metrics=['accuracy'],\n",
    ")\n",
    "mixup_resnet50.summary()\n",
    "\n",
    "print('cutmix 학습 시작')\n",
    "history_resnet50_cutmix = cutmix_resnet50.fit(\n",
    "    ds_train_cutmix, # cutmix 적용한 데이터셋 사용\n",
    "    steps_per_epoch=int(ds_info.splits['train'].num_examples/16),\n",
    "    validation_steps=int(ds_info.splits['test'].num_examples/16),\n",
    "    epochs=EPOCH,\n",
    "    validation_data=ds_test,\n",
    "    verbose=1,\n",
    "    use_multiprocessing=True,\n",
    ")\n",
    "print('cutmix 학습 종료')\n",
    "\n",
    "print('mixup 학습 시작')\n",
    "history_resnet50_mixup = mixup_resnet50.fit(\n",
    "    ds_train_mixup, # mixup 적용한 데이터셋 사용\n",
    "    steps_per_epoch=int(ds_info.splits['train'].num_examples/16),\n",
    "    validation_steps=int(ds_info.splits['test'].num_examples/16),\n",
    "    epochs=EPOCH,\n",
    "    validation_data=ds_test,\n",
    "    verbose=1,\n",
    "    use_multiprocessing=True,\n",
    ")\n",
    "print('mixup 학습 종료')"
   ]
  },
  {
   "cell_type": "code",
   "execution_count": 36,
   "id": "230ab82b",
   "metadata": {
    "scrolled": false
   },
   "outputs": [
    {
     "name": "stdout",
     "output_type": "stream",
     "text": [
      "Model: \"sequential\"\n",
      "_________________________________________________________________\n",
      "Layer (type)                 Output Shape              Param #   \n",
      "=================================================================\n",
      "resnet50 (Functional)        (None, 2048)              23587712  \n",
      "_________________________________________________________________\n",
      "dense (Dense)                (None, 120)               245880    \n",
      "=================================================================\n",
      "Total params: 23,833,592\n",
      "Trainable params: 23,780,472\n",
      "Non-trainable params: 53,120\n",
      "_________________________________________________________________\n",
      "Model: \"sequential_1\"\n",
      "_________________________________________________________________\n",
      "Layer (type)                 Output Shape              Param #   \n",
      "=================================================================\n",
      "resnet50 (Functional)        (None, 2048)              23587712  \n",
      "_________________________________________________________________\n",
      "dense_1 (Dense)              (None, 120)               245880    \n",
      "=================================================================\n",
      "Total params: 23,833,592\n",
      "Trainable params: 23,780,472\n",
      "Non-trainable params: 53,120\n",
      "_________________________________________________________________\n",
      "no_aug 학습 시작\n",
      "Epoch 1/40\n",
      "750/750 [==============================] - 114s 147ms/step - loss: 3.1745 - accuracy: 0.2764 - val_loss: 3.5349 - val_accuracy: 0.1791\n",
      "Epoch 2/40\n",
      "750/750 [==============================] - 109s 146ms/step - loss: 0.9113 - accuracy: 0.7441 - val_loss: 1.0785 - val_accuracy: 0.6894\n",
      "Epoch 3/40\n",
      "750/750 [==============================] - 109s 146ms/step - loss: 0.3561 - accuracy: 0.9129 - val_loss: 1.0207 - val_accuracy: 0.7056\n",
      "Epoch 4/40\n",
      "750/750 [==============================] - 109s 146ms/step - loss: 0.1036 - accuracy: 0.9861 - val_loss: 0.9090 - val_accuracy: 0.7341\n",
      "Epoch 5/40\n",
      "750/750 [==============================] - 109s 146ms/step - loss: 0.0533 - accuracy: 0.9957 - val_loss: 0.9391 - val_accuracy: 0.7354\n",
      "Epoch 6/40\n",
      "750/750 [==============================] - 109s 146ms/step - loss: 0.0367 - accuracy: 0.9974 - val_loss: 1.0046 - val_accuracy: 0.7217\n",
      "Epoch 7/40\n",
      "750/750 [==============================] - 109s 146ms/step - loss: 0.0163 - accuracy: 0.9987 - val_loss: 0.9263 - val_accuracy: 0.7464\n",
      "Epoch 8/40\n",
      "750/750 [==============================] - 109s 146ms/step - loss: 0.0165 - accuracy: 0.9988 - val_loss: 0.9448 - val_accuracy: 0.7406\n",
      "Epoch 9/40\n",
      "750/750 [==============================] - 109s 146ms/step - loss: 0.0134 - accuracy: 0.9992 - val_loss: 0.9524 - val_accuracy: 0.7390\n",
      "Epoch 10/40\n",
      "750/750 [==============================] - 109s 145ms/step - loss: 0.0063 - accuracy: 1.0000 - val_loss: 0.9577 - val_accuracy: 0.7416\n",
      "Epoch 11/40\n",
      "750/750 [==============================] - 109s 145ms/step - loss: 0.0073 - accuracy: 0.9998 - val_loss: 0.9655 - val_accuracy: 0.7416\n",
      "Epoch 12/40\n",
      "750/750 [==============================] - 109s 145ms/step - loss: 0.0091 - accuracy: 0.9992 - val_loss: 0.9786 - val_accuracy: 0.7408\n",
      "Epoch 13/40\n",
      "750/750 [==============================] - 109s 145ms/step - loss: 0.0073 - accuracy: 0.9994 - val_loss: 0.9679 - val_accuracy: 0.7445\n",
      "Epoch 14/40\n",
      "750/750 [==============================] - 109s 145ms/step - loss: 0.0076 - accuracy: 0.9990 - val_loss: 0.9774 - val_accuracy: 0.7446\n",
      "Epoch 15/40\n",
      "750/750 [==============================] - 109s 145ms/step - loss: 0.0050 - accuracy: 0.9998 - val_loss: 0.9802 - val_accuracy: 0.7450\n",
      "Epoch 16/40\n",
      "750/750 [==============================] - 109s 145ms/step - loss: 0.0043 - accuracy: 1.0000 - val_loss: 0.9947 - val_accuracy: 0.7420\n",
      "Epoch 17/40\n",
      "750/750 [==============================] - 109s 145ms/step - loss: 0.0057 - accuracy: 0.9997 - val_loss: 0.9947 - val_accuracy: 0.7424\n",
      "Epoch 18/40\n",
      "750/750 [==============================] - 109s 145ms/step - loss: 0.0053 - accuracy: 0.9997 - val_loss: 1.0050 - val_accuracy: 0.7397\n",
      "Epoch 19/40\n",
      "750/750 [==============================] - 109s 145ms/step - loss: 0.0066 - accuracy: 0.9995 - val_loss: 1.0061 - val_accuracy: 0.7416\n",
      "Epoch 20/40\n",
      "750/750 [==============================] - 109s 145ms/step - loss: 0.0027 - accuracy: 1.0000 - val_loss: 1.0004 - val_accuracy: 0.7427\n",
      "Epoch 21/40\n",
      "750/750 [==============================] - 109s 145ms/step - loss: 0.0027 - accuracy: 1.0000 - val_loss: 1.0102 - val_accuracy: 0.7431\n",
      "Epoch 22/40\n",
      "750/750 [==============================] - 109s 145ms/step - loss: 0.0021 - accuracy: 1.0000 - val_loss: 1.0146 - val_accuracy: 0.7435\n",
      "Epoch 23/40\n",
      "750/750 [==============================] - 109s 145ms/step - loss: 0.0031 - accuracy: 1.0000 - val_loss: 1.0164 - val_accuracy: 0.7438\n",
      "Epoch 24/40\n",
      "750/750 [==============================] - 109s 145ms/step - loss: 0.0014 - accuracy: 1.0000 - val_loss: 1.0181 - val_accuracy: 0.7428\n",
      "Epoch 25/40\n",
      "750/750 [==============================] - 109s 145ms/step - loss: 0.0011 - accuracy: 1.0000 - val_loss: 1.0228 - val_accuracy: 0.7446\n",
      "Epoch 26/40\n",
      "750/750 [==============================] - 109s 145ms/step - loss: 0.0021 - accuracy: 1.0000 - val_loss: 1.0310 - val_accuracy: 0.7434\n",
      "Epoch 27/40\n",
      "750/750 [==============================] - 109s 145ms/step - loss: 0.0022 - accuracy: 0.9999 - val_loss: 1.0372 - val_accuracy: 0.7429\n",
      "Epoch 28/40\n",
      "750/750 [==============================] - 109s 145ms/step - loss: 0.0027 - accuracy: 0.9999 - val_loss: 1.0566 - val_accuracy: 0.7373\n",
      "Epoch 29/40\n",
      "750/750 [==============================] - 109s 145ms/step - loss: 0.0024 - accuracy: 1.0000 - val_loss: 1.0403 - val_accuracy: 0.7418\n",
      "Epoch 30/40\n",
      "750/750 [==============================] - 109s 145ms/step - loss: 0.0025 - accuracy: 0.9999 - val_loss: 1.0415 - val_accuracy: 0.7417\n",
      "Epoch 31/40\n",
      "750/750 [==============================] - 109s 145ms/step - loss: 0.0018 - accuracy: 1.0000 - val_loss: 1.0471 - val_accuracy: 0.7413\n",
      "Epoch 32/40\n",
      "750/750 [==============================] - 109s 145ms/step - loss: 0.0013 - accuracy: 1.0000 - val_loss: 1.0489 - val_accuracy: 0.7420\n",
      "Epoch 33/40\n",
      "750/750 [==============================] - 109s 145ms/step - loss: 0.0013 - accuracy: 1.0000 - val_loss: 1.0602 - val_accuracy: 0.7418\n",
      "Epoch 34/40\n",
      "750/750 [==============================] - 109s 145ms/step - loss: 0.0024 - accuracy: 0.9999 - val_loss: 1.0620 - val_accuracy: 0.7386\n",
      "Epoch 35/40\n",
      "750/750 [==============================] - 109s 145ms/step - loss: 0.0024 - accuracy: 0.9999 - val_loss: 1.0538 - val_accuracy: 0.7425\n",
      "Epoch 36/40\n",
      "750/750 [==============================] - 109s 145ms/step - loss: 0.0018 - accuracy: 0.9999 - val_loss: 1.0563 - val_accuracy: 0.7432\n",
      "Epoch 37/40\n",
      "750/750 [==============================] - 109s 145ms/step - loss: 0.0015 - accuracy: 1.0000 - val_loss: 1.0642 - val_accuracy: 0.7413\n",
      "Epoch 38/40\n",
      "750/750 [==============================] - 109s 145ms/step - loss: 0.0016 - accuracy: 1.0000 - val_loss: 1.0625 - val_accuracy: 0.7428\n",
      "Epoch 39/40\n",
      "750/750 [==============================] - 109s 145ms/step - loss: 8.2282e-04 - accuracy: 1.0000 - val_loss: 1.0646 - val_accuracy: 0.7435\n",
      "Epoch 40/40\n",
      "750/750 [==============================] - 109s 145ms/step - loss: 8.9985e-04 - accuracy: 1.0000 - val_loss: 1.0721 - val_accuracy: 0.7418\n",
      "no_aug 학습 끝\n",
      "no_aug 학습 시작\n",
      "Epoch 1/40\n",
      "750/750 [==============================] - 113s 146ms/step - loss: 3.2233 - accuracy: 0.2759 - val_loss: 3.0919 - val_accuracy: 0.2625\n",
      "Epoch 2/40\n",
      "750/750 [==============================] - 109s 145ms/step - loss: 1.1263 - accuracy: 0.6769 - val_loss: 1.2830 - val_accuracy: 0.6260\n",
      "Epoch 3/40\n",
      "750/750 [==============================] - 109s 145ms/step - loss: 0.6219 - accuracy: 0.8241 - val_loss: 1.1862 - val_accuracy: 0.6607\n",
      "Epoch 4/40\n",
      "750/750 [==============================] - 109s 145ms/step - loss: 0.3747 - accuracy: 0.8995 - val_loss: 1.0293 - val_accuracy: 0.7010\n",
      "Epoch 5/40\n",
      "750/750 [==============================] - 109s 145ms/step - loss: 0.2092 - accuracy: 0.9529 - val_loss: 1.0827 - val_accuracy: 0.7004\n",
      "Epoch 6/40\n",
      "750/750 [==============================] - 109s 145ms/step - loss: 0.1173 - accuracy: 0.9781 - val_loss: 1.0437 - val_accuracy: 0.7080\n",
      "Epoch 7/40\n",
      "750/750 [==============================] - 109s 145ms/step - loss: 0.0843 - accuracy: 0.9854 - val_loss: 1.0058 - val_accuracy: 0.7247\n"
     ]
    },
    {
     "name": "stdout",
     "output_type": "stream",
     "text": [
      "Epoch 8/40\n",
      "750/750 [==============================] - 109s 145ms/step - loss: 0.0424 - accuracy: 0.9934 - val_loss: 0.9596 - val_accuracy: 0.7375\n",
      "Epoch 9/40\n",
      "750/750 [==============================] - 109s 145ms/step - loss: 0.0349 - accuracy: 0.9963 - val_loss: 0.9816 - val_accuracy: 0.7360\n",
      "Epoch 10/40\n",
      "750/750 [==============================] - 109s 145ms/step - loss: 0.0261 - accuracy: 0.9976 - val_loss: 0.9584 - val_accuracy: 0.7471\n",
      "Epoch 11/40\n",
      "750/750 [==============================] - 109s 146ms/step - loss: 0.0233 - accuracy: 0.9973 - val_loss: 0.9824 - val_accuracy: 0.7437\n",
      "Epoch 12/40\n",
      "750/750 [==============================] - 109s 145ms/step - loss: 0.0174 - accuracy: 0.9986 - val_loss: 0.9558 - val_accuracy: 0.7464\n",
      "Epoch 13/40\n",
      "750/750 [==============================] - 109s 145ms/step - loss: 0.0184 - accuracy: 0.9976 - val_loss: 0.9833 - val_accuracy: 0.7450\n",
      "Epoch 14/40\n",
      "750/750 [==============================] - 109s 145ms/step - loss: 0.0127 - accuracy: 0.9987 - val_loss: 1.0112 - val_accuracy: 0.7361\n",
      "Epoch 15/40\n",
      "750/750 [==============================] - 109s 145ms/step - loss: 0.0113 - accuracy: 0.9985 - val_loss: 0.9826 - val_accuracy: 0.7483\n",
      "Epoch 16/40\n",
      "750/750 [==============================] - 109s 145ms/step - loss: 0.0099 - accuracy: 0.9986 - val_loss: 0.9750 - val_accuracy: 0.7524\n",
      "Epoch 17/40\n",
      "750/750 [==============================] - 109s 145ms/step - loss: 0.0096 - accuracy: 0.9987 - val_loss: 0.9884 - val_accuracy: 0.7536\n",
      "Epoch 18/40\n",
      "750/750 [==============================] - 109s 145ms/step - loss: 0.0079 - accuracy: 0.9997 - val_loss: 0.9860 - val_accuracy: 0.7541\n",
      "Epoch 19/40\n",
      "750/750 [==============================] - 109s 145ms/step - loss: 0.0053 - accuracy: 0.9998 - val_loss: 0.9962 - val_accuracy: 0.7533\n",
      "Epoch 20/40\n",
      "750/750 [==============================] - 109s 146ms/step - loss: 0.0054 - accuracy: 0.9997 - val_loss: 0.9967 - val_accuracy: 0.7484\n",
      "Epoch 21/40\n",
      "750/750 [==============================] - 109s 145ms/step - loss: 0.0052 - accuracy: 0.9995 - val_loss: 1.0129 - val_accuracy: 0.7491\n",
      "Epoch 22/40\n",
      "750/750 [==============================] - 109s 145ms/step - loss: 0.0044 - accuracy: 0.9999 - val_loss: 0.9957 - val_accuracy: 0.7540\n",
      "Epoch 23/40\n",
      "750/750 [==============================] - 109s 145ms/step - loss: 0.0040 - accuracy: 0.9996 - val_loss: 1.0001 - val_accuracy: 0.7540\n",
      "Epoch 24/40\n",
      "750/750 [==============================] - 109s 145ms/step - loss: 0.0030 - accuracy: 0.9997 - val_loss: 0.9988 - val_accuracy: 0.7535\n",
      "Epoch 25/40\n",
      "750/750 [==============================] - 109s 145ms/step - loss: 0.0025 - accuracy: 0.9998 - val_loss: 1.0153 - val_accuracy: 0.7531\n",
      "Epoch 26/40\n",
      "750/750 [==============================] - 109s 146ms/step - loss: 0.0041 - accuracy: 0.9998 - val_loss: 1.0179 - val_accuracy: 0.7519\n",
      "Epoch 27/40\n",
      "750/750 [==============================] - 109s 145ms/step - loss: 0.0037 - accuracy: 0.9999 - val_loss: 1.0348 - val_accuracy: 0.7500\n",
      "Epoch 28/40\n",
      "750/750 [==============================] - 109s 145ms/step - loss: 0.0040 - accuracy: 0.9999 - val_loss: 1.0342 - val_accuracy: 0.7538\n",
      "Epoch 29/40\n",
      "750/750 [==============================] - 109s 145ms/step - loss: 0.0029 - accuracy: 0.9998 - val_loss: 1.0253 - val_accuracy: 0.7523\n",
      "Epoch 30/40\n",
      "750/750 [==============================] - 109s 145ms/step - loss: 0.0018 - accuracy: 1.0000 - val_loss: 1.0266 - val_accuracy: 0.7527\n",
      "Epoch 31/40\n",
      "750/750 [==============================] - 109s 145ms/step - loss: 0.0021 - accuracy: 1.0000 - val_loss: 1.0308 - val_accuracy: 0.7531\n",
      "Epoch 32/40\n",
      "750/750 [==============================] - 109s 145ms/step - loss: 0.0019 - accuracy: 1.0000 - val_loss: 1.0359 - val_accuracy: 0.7505\n",
      "Epoch 33/40\n",
      "750/750 [==============================] - 109s 145ms/step - loss: 0.0027 - accuracy: 0.9999 - val_loss: 1.0279 - val_accuracy: 0.7561\n",
      "Epoch 34/40\n",
      "750/750 [==============================] - 109s 145ms/step - loss: 0.0021 - accuracy: 1.0000 - val_loss: 1.0311 - val_accuracy: 0.7561\n",
      "Epoch 35/40\n",
      "750/750 [==============================] - 109s 146ms/step - loss: 0.0029 - accuracy: 0.9999 - val_loss: 1.0526 - val_accuracy: 0.7527\n",
      "Epoch 36/40\n",
      "750/750 [==============================] - 109s 145ms/step - loss: 0.0038 - accuracy: 0.9997 - val_loss: 1.0538 - val_accuracy: 0.7520\n",
      "Epoch 37/40\n",
      "750/750 [==============================] - 109s 145ms/step - loss: 0.0031 - accuracy: 0.9999 - val_loss: 1.0361 - val_accuracy: 0.7568\n",
      "Epoch 38/40\n",
      "750/750 [==============================] - 109s 146ms/step - loss: 0.0018 - accuracy: 0.9997 - val_loss: 1.0399 - val_accuracy: 0.7536\n",
      "Epoch 39/40\n",
      "750/750 [==============================] - 109s 145ms/step - loss: 0.0018 - accuracy: 0.9998 - val_loss: 1.0468 - val_accuracy: 0.7538\n",
      "Epoch 40/40\n",
      "750/750 [==============================] - 109s 145ms/step - loss: 0.0020 - accuracy: 0.9998 - val_loss: 1.0459 - val_accuracy: 0.7541\n",
      "no_aug 학습 끝\n"
     ]
    }
   ],
   "source": [
    "#EPOCH = 20  # Augentation 적용 효과를 확인하기 위해 필요한 epoch 수\n",
    "EPOCH = 40\n",
    "\n",
    "\n",
    "resnet50.compile(\n",
    "    loss='categorical_crossentropy',\n",
    "    optimizer=tf.keras.optimizers.SGD(lr=0.01),\n",
    "    metrics=['accuracy'],\n",
    ")\n",
    "resnet50.summary()\n",
    "\n",
    "aug_resnet50.compile(\n",
    "    loss='categorical_crossentropy',\n",
    "    optimizer=tf.keras.optimizers.SGD(lr=0.01),\n",
    "    metrics=['accuracy'],\n",
    ")\n",
    "aug_resnet50.summary()\n",
    "\n",
    "print('no_aug 학습 시작')\n",
    "history_resnet50_no_aug = resnet50.fit(\n",
    "    ds_train_no_aug, # augmentation 적용하지 않은 데이터셋 사용\n",
    "    steps_per_epoch=int(ds_info.splits['train'].num_examples/16),\n",
    "    validation_steps=int(ds_info.splits['test'].num_examples/16),\n",
    "    epochs=EPOCH,\n",
    "    validation_data=ds_test,\n",
    "    verbose=1,\n",
    "    use_multiprocessing=True,\n",
    ")\n",
    "print('no_aug 학습 끝')\n",
    "\n",
    "print('no_aug 학습 시작')\n",
    "history_resnet50_aug = aug_resnet50.fit(\n",
    "    ds_train_aug, # augmentation 적용한 데이터셋 사용\n",
    "    steps_per_epoch=int(ds_info.splits['train'].num_examples/16),\n",
    "    validation_steps=int(ds_info.splits['test'].num_examples/16),\n",
    "    epochs=EPOCH,\n",
    "    validation_data=ds_test,\n",
    "    verbose=1,\n",
    "    use_multiprocessing=True,\n",
    ")\n",
    "print('no_aug 학습 끝')"
   ]
  },
  {
   "cell_type": "markdown",
   "id": "7371f46e",
   "metadata": {},
   "source": [
    "## 4. 훈련 과정 시각화하기\n",
    "***\n",
    "훈련 과정의 히스토리를 그래프로 시각화해 주세요.  "
   ]
  },
  {
   "cell_type": "code",
   "execution_count": 37,
   "id": "6e5d9c53",
   "metadata": {},
   "outputs": [
    {
     "data": {
      "image/png": "[encoded data removed]",
      "text/plain": [
       "<Figure size 432x288 with 1 Axes>"
      ]
     },
     "metadata": {
      "needs_background": "light"
     },
     "output_type": "display_data"
    }
   ],
   "source": [
    "plt.plot(history_resnet50_no_aug.history['val_accuracy'], 'r')\n",
    "plt.plot(history_resnet50_aug.history['val_accuracy'], 'b')\n",
    "plt.plot(history_resnet50_cutmix.history['val_accuracy'], 'green')\n",
    "plt.plot(history_resnet50_mixup.history['val_accuracy'], 'orange')\n",
    "plt.title('Model validation accuracy')\n",
    "plt.ylabel('Accuracy')\n",
    "plt.xlabel('Epoch')\n",
    "plt.legend(['No Augmentation', 'With Augmentation', 'CutMix', 'MixUp'], loc='upper left')\n",
    "plt.show()\n"
   ]
  },
  {
   "cell_type": "code",
   "execution_count": 41,
   "id": "c2b04414",
   "metadata": {},
   "outputs": [
    {
     "data": {
      "image/png": "[encoded data removed]",
      "text/plain": [
       "<Figure size 432x288 with 1 Axes>"
      ]
     },
     "metadata": {
      "needs_background": "light"
     },
     "output_type": "display_data"
    }
   ],
   "source": [
    "plt.plot(history_resnet50_no_aug.history['val_accuracy'], 'r')\n",
    "plt.plot(history_resnet50_aug.history['val_accuracy'], 'b')\n",
    "plt.plot(history_resnet50_cutmix.history['val_accuracy'], 'green')\n",
    "plt.plot(history_resnet50_mixup.history['val_accuracy'], 'orange')\n",
    "plt.title('Model validation accuracy')\n",
    "plt.ylabel('Accuracy')\n",
    "plt.xlabel('Epoch')\n",
    "plt.legend(['No Augmentation', 'With Augmentation', 'CutMix', 'MixUp'], loc='upper left')\n",
    "plt.grid(True)\n",
    "plt.ylim(0.60, 0.76)\n",
    "plt.show()\n"
   ]
  },
  {
   "cell_type": "markdown",
   "id": "trained-reserve",
   "metadata": {},
   "source": [
    "## 5. Augmentation에 의한 모델 성능 비교  \n",
    "***\n",
    "No Augmentation, 기본 Augmentation, 기본 + CutMix 적용, 기본 + Mixup 적용 이상 4가지 경우의 데이터셋에 대해 훈련된 ResNet50 분류기의 견종 분류 정확도 성능을 비교해 보고, Augmentation 방법들의 영향도에 대해 분석해 보세요."
   ]
  },
  {
   "cell_type": "markdown",
   "id": "31567767",
   "metadata": {},
   "source": [
    "1. 위 그래프를 통해 가장 성능이 좋은 모델은 Augmentation을 적용한 모델  \n",
    "2. cutmix, mixup 등의 기법은 예상 외로 낮은 성능을 보임.  "
   ]
  },
  {
   "cell_type": "markdown",
   "id": "boxed-rubber",
   "metadata": {},
   "source": [
    "***"
   ]
  },
  {
   "cell_type": "markdown",
   "id": "arabic-coast",
   "metadata": {},
   "source": [
    "# 루브릭 평가\n",
    "\n",
    "아래의 기준을 바탕으로 프로젝트를 평가합니다.\n",
    "\n",
    "|평가문항|상세기준|\n",
    "|:---:|:---:|\n",
    "|1. CutMix와 MixUp 기법을 ResNet50 분류기에 성공적으로 적용하였는가?|CutMix와 MixUp을 적용한 데이터셋으로 훈련한 각각의 ResNet 모델이 수렴하였다.|\n",
    "|2. 다양한 실험을 통해 태스크에 최적인 Augmentation 기법을 찾아내었는가?|Augmentation 적용을 통해 Augmentaion 미적용시 대비 5% 이상의 성능향상을 확인함|\n",
    "|3. 여러가지 Augmentation 기법을 적용한 결과를 체계적으로 비교분석하였는가?|기본 Augmentation, CutMix, MixUp이 적용된 결과를 시각화와 함께 체계적으로 분석하였다.|\n"
   ]
  },
  {
   "cell_type": "markdown",
   "id": "5a3f388f",
   "metadata": {},
   "source": [
    "# 회고\n",
    "1. Going Deeper Project는 Exploration과는 난이도가 사뭇 달랐다.  \n",
    "2. 깊게 파고드는 노드인 만큼 코드를 하나하나 해부했다.  \n",
    "3. `이혜성(a.k.a 히비스서커스)님` 주말을 불태우며 하나하나 디버깅했다(총 6시간)  \n",
    "4. 그 중에서 오타를 발견했는데 아래에 남겨본다. 하나는 노드 본문 내용이고 하나는 코드 내용이다....(이거 찾는데도 꽤 걸렸다)  \n",
    "\n",
    "- 1) cutmix의 리턴값이 mixed_label가 아닌 mixed_labels가 되어야 합니다.  \n",
    "- 2) cutmix 함수 설명 중 '위에서 구현한 두 함수 `mix_2_label()`과 `mix_2_label()`을 활용하여 배치 단위의 cutmix() 함수를 구현해 봅시다.' 이 부분에서 첫 번째 `mix_2_label()`가 아닌 `mix_2_images()`가 되어야 합니다.  \n",
    "\n",
    "5. 또한 onehot 함수를 만드는 일도 새로운 경험이었다. 노드에서 주어진 코드에서 `onehot`이라는 함수 이름만 주고 정의가 되어 있지 않아 당황했는데 해석한 결과는 **'기본상태와 augmentation이 적용된 상태에 라벨의 형태를 onehot벡터로 변경해줘야 한다'**라는 것.  \n",
    "- 왜냐하면 cutmix, mixup 함수에서 라벨이 onehot벡터 형태로 바뀌기 때문.  \n",
    "6. tf.one_hot을 이용해 생각보다 간단하게 만들 수 있었다. 사용 예시는 아래와 같다.(아래 코드 참고)  \n",
    "- tf.one_hot(요소 개수, 표현하고자 하는 길이) -> 만약 tf.one_hot(3,4)라면 [0,0,0,1] 이렇게 표현. 인덱스 번호 3에 1이 있는 것을 알 수 있다. 나는 tf.one_hot(클래스 번호, 클래스 전체 크기)로 정의해 onehot벡터를 만들었다.  \n",
    "7. 데이터셋 만드는 함수도 간단하게 if 문을 활용해 with_mixup을 적용할 수 있었다. 나중에 활용하면 좋을듯?  \n",
    "8. 확실히 주어진 코드를 그대로 쓰는게 아니라 확실히 이해하고 하나하나 다 튜닝하다보니 이해는 확 되었다. 그래도 고통받은 받은만큼 남는게 있어서 다행이다!"
   ]
  },
  {
   "cell_type": "code",
   "execution_count": 39,
   "id": "679b9198",
   "metadata": {},
   "outputs": [
    {
     "name": "stdout",
     "output_type": "stream",
     "text": [
      "tf.Tensor([0. 0. 0. 1.], shape=(4,), dtype=float32)\n"
     ]
    }
   ],
   "source": [
    "# tf.onehot 사용 예시\n",
    "\n",
    "indices = 3\n",
    "depth = 4\n",
    "print(tf.one_hot(indices, depth))  # output: [3 x 3]"
   ]
  }
 ],
 "metadata": {
  "kernelspec": {
   "display_name": "aiffel",
   "language": "python",
   "name": "aiffel"
  },
  "language_info": {
   "codemirror_mode": {
    "name": "ipython",
    "version": 3
   },
   "file_extension": ".py",
   "mimetype": "text/x-python",
   "name": "python",
   "nbconvert_exporter": "python",
   "pygments_lexer": "ipython3",
   "version": "3.7.10"
  }
 },
 "nbformat": 4,
 "nbformat_minor": 5
}
