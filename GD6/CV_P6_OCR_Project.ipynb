{
 "cells": [
  {
   "cell_type": "code",
   "execution_count": 1,
   "id": "5b972c82",
   "metadata": {},
   "outputs": [
    {
     "name": "stdout",
     "output_type": "stream",
     "text": [
      "/home/aiffel-dj40/aiffel/ocr\n"
     ]
    }
   ],
   "source": [
    "import os\n",
    "\n",
    "path = os.path.join(os.getenv('HOME'),'aiffel/ocr')\n",
    "os.chdir(path)\n",
    "\n",
    "print(path)"
   ]
  },
  {
   "cell_type": "markdown",
   "id": "b5c110f7",
   "metadata": {},
   "source": [
    "몇 개의 Class가 필요한지 확인하기 위해 다음 셀을 실행한 후 퀴즈를 풀어보세요."
   ]
  },
  {
   "cell_type": "code",
   "execution_count": 2,
   "id": "a931505e",
   "metadata": {},
   "outputs": [
    {
     "name": "stdout",
     "output_type": "stream",
     "text": [
      "The total number of characters is 36\n"
     ]
    }
   ],
   "source": [
    "NUMBERS = \"0123456789\"\n",
    "ENG_CHAR_UPPER = \"ABCDEFGHIJKLMNOPQRSTUVWXYZ\"\n",
    "TARGET_CHARACTERS = ENG_CHAR_UPPER + NUMBERS\n",
    "print(f\"The total number of characters is {len(TARGET_CHARACTERS)}\")"
   ]
  },
  {
   "cell_type": "markdown",
   "id": "c1084551",
   "metadata": {},
   "source": [
    "아래에 필요한 라이브러리들을 import하도록 합니다. 다운로드한 MJ 데이터셋의 위치도 확인해서 옮겨주세요!"
   ]
  },
  {
   "cell_type": "code",
   "execution_count": 3,
   "id": "f4b31f6c",
   "metadata": {},
   "outputs": [
    {
     "name": "stdout",
     "output_type": "stream",
     "text": [
      "/home/aiffel-dj40/aiffel/ocr/MJ/MJ_train\n"
     ]
    }
   ],
   "source": [
    "import re\n",
    "import six\n",
    "import math\n",
    "import lmdb\n",
    "import os\n",
    "import numpy as np\n",
    "import tensorflow as tf\n",
    "\n",
    "from PIL import Image\n",
    "\n",
    "from tensorflow.keras import layers\n",
    "from tensorflow.keras.models import Model\n",
    "from tensorflow.keras.utils import Sequence\n",
    "from tensorflow.keras import backend as K\n",
    "from tensorflow.keras.models import load_model\n",
    "\n",
    "BATCH_SIZE = 128\n",
    "HOME_DIR = os.getenv('HOME')+'/aiffel/ocr'\n",
    "\n",
    "# 로컬 사용자\n",
    "TRAIN_DATA_PATH = HOME_DIR+'/MJ/MJ_train'\n",
    "VALID_DATA_PATH = HOME_DIR+'/MJ/MJ_valid'\n",
    "TEST_DATA_PATH = HOME_DIR+'/MJ/MJ_test'\n",
    "\n",
    "# 클라우드 사용자는 아래 주석을 사용해 주세요.\n",
    "# TRAIN_DATA_PATH = HOME_DIR+'/data/MJ/MJ_train'\n",
    "# VALID_DATA_PATH = HOME_DIR+'/data/MJ/MJ_valid'\n",
    "# TEST_DATA_PATH = HOME_DIR+'/data/MJ/MJ_test'\n",
    "print(TRAIN_DATA_PATH)"
   ]
  },
  {
   "cell_type": "markdown",
   "id": "b75d873c",
   "metadata": {},
   "source": [
    "그럼 데이터셋 안에 들어있는 이미지가 실제로 어떻게 생겼는지 확인해 봅시다. 아래는 lmdb를 통해 훈련데이터셋의 이미지를 4개만 열어서 실제 shape가 어떻게 생겼는지, 이미지나 라벨은 어떻게 달려 있는지를 확인해 보도록 합시다."
   ]
  },
  {
   "cell_type": "code",
   "execution_count": 4,
   "id": "2f9b93fd",
   "metadata": {},
   "outputs": [
    {
     "name": "stdout",
     "output_type": "stream",
     "text": [
      "original image width:72, height:31\n",
      "target_img_size:(74, 32)\n",
      "display img shape:(74, 32, 3)\n",
      "label:Lube\n"
     ]
    },
    {
     "data": {
      "image/png": "[encoded data removed]",
      "text/plain": [
       "<PIL.Image.Image image mode=RGB size=74x32 at 0x7F3997A7D310>"
      ]
     },
     "metadata": {},
     "output_type": "display_data"
    },
    {
     "name": "stdout",
     "output_type": "stream",
     "text": [
      "original image width:82, height:31\n",
      "target_img_size:(84, 32)\n",
      "display img shape:(84, 32, 3)\n",
      "label:Spencerian\n"
     ]
    },
    {
     "data": {
      "image/png": "[encoded data removed]",
      "text/plain": [
       "<PIL.Image.Image image mode=RGB size=84x32 at 0x7F3997A7D310>"
      ]
     },
     "metadata": {},
     "output_type": "display_data"
    },
    {
     "name": "stdout",
     "output_type": "stream",
     "text": [
      "original image width:115, height:31\n",
      "target_img_size:(100, 32)\n",
      "display img shape:(100, 32, 3)\n",
      "label:accommodatingly\n"
     ]
    },
    {
     "data": {
      "image/png": "[encoded data removed]",
      "text/plain": [
       "<PIL.Image.Image image mode=RGB size=100x32 at 0x7F3997A7D310>"
      ]
     },
     "metadata": {},
     "output_type": "display_data"
    },
    {
     "name": "stdout",
     "output_type": "stream",
     "text": [
      "original image width:140, height:31\n",
      "target_img_size:(100, 32)\n",
      "display img shape:(100, 32, 3)\n",
      "label:CARPENTER\n"
     ]
    },
    {
     "data": {
      "image/png": "[encoded data removed]",
      "text/plain": [
       "<PIL.Image.Image image mode=RGB size=100x32 at 0x7F3EEACB7310>"
      ]
     },
     "metadata": {},
     "output_type": "display_data"
    }
   ],
   "source": [
    "from IPython.display import display\n",
    "\n",
    "env = lmdb.open(TRAIN_DATA_PATH, max_readers=32, readonly=True, lock=False, readahead=False, meminit=False)\n",
    "with env.begin(write=False) as txn:\n",
    "    for index in range(1, 5):\n",
    "        label_key = 'label-%09d'.encode() % index\n",
    "        label = txn.get(label_key).decode('utf-8')\n",
    "        img_key = 'image-%09d'.encode() % index\n",
    "        imgbuf = txn.get(img_key)\n",
    "        buf = six.BytesIO()\n",
    "        buf.write(imgbuf)\n",
    "        buf.seek(0)\n",
    "        try:\n",
    "            img = Image.open(buf).convert('RGB')\n",
    "\n",
    "        except IOError:\n",
    "            img = Image.new('RGB', (100, 32))\n",
    "            label = '-'\n",
    "        width, height = img.size\n",
    "        print('original image width:{}, height:{}'.format(width, height))\n",
    "        \n",
    "        target_width = min(int(width*32/height), 100)\n",
    "        target_img_size = (target_width,32 )\n",
    "        \n",
    "        print('target_img_size:{}'.format(target_img_size))\n",
    "        \n",
    "        img = np.array(img.resize(target_img_size)).transpose(1,0,2)\n",
    "       \n",
    "        print('display img shape:{}'.format(img.shape))\n",
    "        print('label:{}'.format(label))\n",
    "        display(Image.fromarray(img.transpose(1,0,2).astype(np.uint8)))"
   ]
  },
  {
   "cell_type": "markdown",
   "id": "b908e2c2",
   "metadata": {},
   "source": [
    "대부분의 이미지의 height는 31, 최대 32까지로 되어 있고, width는 문자열 길이에 따라 다양한 것으로 보입니다."
   ]
  },
  {
   "cell_type": "markdown",
   "id": "972b5766",
   "metadata": {},
   "source": [
    "1. lmdb를 활용하여 케라스 모델 학습용 MJ Synth 데이터셋 클래스를 구현하려 함.  \n",
    "2. dataset_path는 읽어들일 데이터셋의 경로  \n",
    "3. label_converter는 아래에서 여러분이 문자를 미리정의된 index로 변환  \n",
    "4. batch_size와 입력이미지 크기  \n",
    "5. 필터링을 위한 최대 글자 수, 학습대상으로 한정하기 위한 character등을 입력으로 받도록 구현되어 있습니다."
   ]
  },
  {
   "cell_type": "markdown",
   "id": "c7327d7b",
   "metadata": {},
   "source": [
    "1. 이미지 데이터를 img, label의 쌍으로 가져오는 부분은 `_get_img_label()` 메소드에 반영  \n",
    "2. `model.fit()`에서 호출되는 `__getitem__()` 메소드에서 배치 단위만큼 `_get_img_label()` 를 통해 가져온 데이터셋을 리턴하게 될 것  \n",
    "3. `_get_img_label()` 를 보면 다양한 사이즈의 이미지를 모두 height는 32로 맞추고, width는 최대 100까지로 맞추게끔 가공하고 있습니다."
   ]
  },
  {
   "cell_type": "code",
   "execution_count": 5,
   "id": "704606cf",
   "metadata": {},
   "outputs": [],
   "source": [
    "class MJDatasetSequence(Sequence):\n",
    "    def __init__(self, \n",
    "                      dataset_path,\n",
    "                      label_converter,\n",
    "                      batch_size=1,\n",
    "                      img_size=(100,32),\n",
    "                      max_text_len=22,\n",
    "                      is_train=False,\n",
    "                      character=''\n",
    "                ):\n",
    "        \n",
    "        self.label_converter = label_converter\n",
    "        self.batch_size = batch_size\n",
    "        self.img_size = img_size\n",
    "        self.max_text_len = max_text_len\n",
    "        self.character = character\n",
    "        self.is_train = is_train\n",
    "        self.divide_length = 100\n",
    "\n",
    "        self.env = lmdb.open(dataset_path, max_readers=32, readonly=True, lock=False, readahead=False, meminit=False)\n",
    "        with self.env.begin(write=False) as txn:\n",
    "            num_samples = int(txn.get('num-samples'.encode()))\n",
    "            self.num_samples = int(num_samples)\n",
    "            self.index_list = [index + 1 for index in range(self.num_samples)]\n",
    "        \n",
    "    def __len__(self):\n",
    "        if self.is_train:\n",
    "            return math.ceil(self.num_samples/self.batch_size/self.divide_length)\n",
    "        return math.ceil(self.num_samples/self.batch_size/self.divide_length)\n",
    "    \n",
    "    # index에 해당하는 image와 label을 가져오는 메소드\n",
    "    def _get_img_label(self, index):\n",
    "        with self.env.begin(write=False) as txn:\n",
    "            label_key = 'label-%09d'.encode() % index\n",
    "            label = txn.get(label_key).decode('utf-8')\n",
    "            img_key = 'image-%09d'.encode() % index\n",
    "            imgbuf = txn.get(img_key)\n",
    "\n",
    "            buf = six.BytesIO()\n",
    "            buf.write(imgbuf)\n",
    "            buf.seek(0)\n",
    "            try:\n",
    "                img = Image.open(buf).convert('RGB')\n",
    "\n",
    "            except IOError:\n",
    "                img = Image.new('RGB', self.img_size)\n",
    "                label = '-'\n",
    "            width, height = img.size\n",
    "            \n",
    "            target_width = min(int(width*self.img_size[1]/height), self.img_size[0])\n",
    "            target_img_size = (target_width,self.img_size[1] )\n",
    "            img = np.array(img.resize(target_img_size)).transpose(1,0,2)\n",
    "            label = label.upper()[:self.max_text_len]\n",
    "            out_of_char = f'[^{self.character}]'\n",
    "            label = re.sub(out_of_char, '', label)\n",
    "\n",
    "        return (img, label)\n",
    "    \n",
    "    # idx번째 배치를 가져오는 메소드\n",
    "    def __getitem__(self, idx):\n",
    "        batch_indicies = self.index_list[\n",
    "            idx*self.batch_size:\n",
    "            (idx+1)*self.batch_size\n",
    "        ]\n",
    "        input_images = np.zeros([self.batch_size, *self.img_size, 3])\n",
    "        labels = np.zeros([self.batch_size, self.max_text_len], dtype='int64')\n",
    "\n",
    "        input_length = np.ones([self.batch_size], dtype='int64')*self.max_text_len\n",
    "        label_length = np.ones([self.batch_size], dtype='int64')\n",
    "\n",
    "        for i, index in enumerate(batch_indicies):\n",
    "            img, label = self._get_img_label(index)\n",
    "            encoded_label = self.label_converter.encode(label)\n",
    "            width = img.shape[0]\n",
    "            input_images[i,:width,:,:] = img\n",
    "            if len(encoded_label) > self.max_text_len:\n",
    "                continue\n",
    "            labels[i,0:len(encoded_label)] = encoded_label\n",
    "            label_length[i] = len(encoded_label)\n",
    "\n",
    "        inputs = {\n",
    "            'input_image': input_images,\n",
    "            'label': labels,\n",
    "            'input_length': input_length,\n",
    "            'label_length': label_length,\n",
    "        }\n",
    "        outputs = {'ctc': np.zeros([self.batch_size, 1])}\n",
    "        return inputs, outputs\n",
    "        \n",
    "    def on_epoch_end(self):\n",
    "        self.index_list =  [index + 1 for index in range(self.num_samples)]\n",
    "        if self.is_train :\n",
    "            np.random.shuffle(self.index_list)\n",
    "            return self.index_list"
   ]
  },
  {
   "cell_type": "markdown",
   "id": "5133722c",
   "metadata": {},
   "source": [
    "1. Label이 우리가 읽을 수 있는 평문 Text로 이루어져 있다. -> 적절한 형태 아님 -> 각 Character를 class로 생각하고 이를 step에 따른 class index로 변환해서 encode를 해주어야 합니다. 이를 해줄 수 있는 LabelConverter 클래스를 작성해봅시다.  \n",
    "\n",
    "\n",
    "- __init__() 에서는 입력으로 받은 text를 self.dict에 각 character들이 어떤 index에 매핑되는지 저장합니다. 이 character와 index 정보를 통해 모델이 학습할 수 있는 output이 만들어집니다. 만약 character='ABCD'라면 'A'의 label은 1, 'B'의 label은 2가 됩니다.  \n",
    "- 공백(blank) 문자를 지정합니다. 여기서는 공백 문자를 뜻하기 위해 '-'를 활용하며, label은 0으로 지정합니다.  \n",
    "- decode()는 각 index를 다시 character로 변환한 후 이어주어 우리가 읽을 수 있는 text로 바꾸어줍니다.  \n",
    "\n"
   ]
  },
  {
   "cell_type": "code",
   "execution_count": 6,
   "id": "227d50cf",
   "metadata": {},
   "outputs": [],
   "source": [
    "class LabelConverter(object):\n",
    "     \"\"\" Convert between text-label and text-index \"\"\"\n",
    "\n",
    "     def __init__(self, character):\n",
    "         self.character = \"-\" + character\n",
    "         self.label_map = dict()\n",
    "         for i, char in enumerate(self.character):\n",
    "             self.label_map[char] = i\n",
    "\n",
    "     def encode(self, text):\n",
    "         encoded_label = []\n",
    "         for i, char in enumerate(text):\n",
    "             if i > 0 and char == text[i - 1]:\n",
    "                 encoded_label.append(0)    # 같은 문자 사이에 공백 문자 label을 삽입\n",
    "             encoded_label.append(self.label_map[char])\n",
    "         return np.array(encoded_label)\n",
    "\n",
    "     def decode(self, encoded_label):\n",
    "         target_characters = list(self.character)\n",
    "         decoded_label = \"\"\n",
    "         for encode in encoded_label:\n",
    "             decoded_label += self.character[encode]\n",
    "         return decoded_label\n"
   ]
  },
  {
   "cell_type": "markdown",
   "id": "35b6158e",
   "metadata": {},
   "source": [
    "아래에서 'HELLO'를 Encode한 후 Decode가 정상적으로 되는지 확인해보도록 해보세요!"
   ]
  },
  {
   "cell_type": "code",
   "execution_count": 7,
   "id": "fb59a4d5",
   "metadata": {},
   "outputs": [
    {
     "name": "stdout",
     "output_type": "stream",
     "text": [
      "Encdoded_text:  [ 8  5 12  0 12 15]\n",
      "Decoded_text:  HEL-LO\n"
     ]
    }
   ],
   "source": [
    "label_converter = LabelConverter(TARGET_CHARACTERS)\n",
    "\n",
    "encdoded_text = label_converter.encode('HELLO')\n",
    "print(\"Encdoded_text: \", encdoded_text)\n",
    "decoded_text = label_converter.decode(encdoded_text)\n",
    "print(\"Decoded_text: \", decoded_text)"
   ]
  },
  {
   "cell_type": "markdown",
   "id": "46c280a9",
   "metadata": {},
   "source": [
    "이제 입력과 출력을 준비했으니 모델을 만들어볼 차례입니다. Keras에서 제공하는 K.ctc_batch_cost()를 활용해서 loss를 계산하도록 ctc_lambda_func를 아래와 같이 만들어두었습니다."
   ]
  },
  {
   "cell_type": "code",
   "execution_count": 8,
   "id": "39bfab36",
   "metadata": {},
   "outputs": [],
   "source": [
    "def ctc_lambda_func(args): # CTC loss를 계산하기 위한 Lambda 함수\n",
    "    labels, y_pred, label_length, input_length = args\n",
    "    y_pred = y_pred[:, 2:, :]\n",
    "    return K.ctc_batch_cost(labels, y_pred, input_length, label_length)"
   ]
  },
  {
   "cell_type": "markdown",
   "id": "4430f880",
   "metadata": {},
   "source": [
    "`K.ctc_batch_cost(y_true, y_pred, input_length, label_length)`에는 4가지 인자가 존재합니다. 각각의 인자의 의미는 다음과 같습니다.\n",
    "\n",
    "- `y_true`: tensor (samples, max_string_length) containing the truth labels.  \n",
    "- `y_pred`: tensor (samples, time_steps, num_categories) containing the prediction, or output of the softmax.  \n",
    "- `input_length tensor`: (samples, 1) containing the sequence length for each batch item in y_pred.  \n",
    "- `label_length tensor`: (samples, 1) containing the sequence length for each batch item in y_true.  \n",
    "\n",
    "![image](https://aiffelstaticprd.blob.core.windows.net/media/original_images/GC-6-P-example.png)  \n",
    "\n",
    "\n",
    "- `y_true`: 실제 라벨 LUBE. 그러나 텍스트 라벨 그대로가 아니라, 각 글자를 One-hot 인코딩한 형태로서, max_string_length 값은 모델에서 22로 지정할 예정  \n",
    "- `y_pred`: 우리가 만들 RCNN 모델의 출력 결과. 그러나 길이는 4가 아니라 우리가 만들 RNN의 최종 출력 길이로서 24가 될 예정  \n",
    "- `input_length tensor`: 모델 입력 길이 T로서, 이 경우에는 텍스트의 width인 74  \n",
    "- `label_length tensor`: 라벨의 실제 정답 길이 U로서, 이 경우에는 4  \n",
    "\n",
    "`K.ctc_batch_cost()`를 활용하여, `image_input`을 입력으로 그리고 마지막 Label을 'output'이라는 이름으로 출력하는 레이어를 갖도록 모델을 만드는 함수 `build_crnn_model()`을 구현  \n",
    "    "
   ]
  },
  {
   "cell_type": "code",
   "execution_count": 9,
   "id": "1bd6dd89",
   "metadata": {},
   "outputs": [],
   "source": [
    "def build_crnn_model(input_shape=(100,32,3), characters=TARGET_CHARACTERS):\n",
    "    num_chars = len(characters)+2\n",
    "    image_input = layers.Input(shape=input_shape, dtype='float32', name='input_image')\n",
    "    \n",
    "    # Build CRNN model\n",
    "    # [[YOUR CODE]]\n",
    "    conv = layers.Conv2D(64, (3, 3), activation='relu', padding='same', kernel_initializer='he_normal')(image_input)\n",
    "    conv = layers.MaxPooling2D(pool_size=(2, 2))(conv)\n",
    "    conv = layers.Conv2D(128, (3, 3), activation='relu', padding='same', kernel_initializer='he_normal')(conv)\n",
    "    conv = layers.MaxPooling2D(pool_size=(2, 2))(conv)\n",
    "    conv = layers.Conv2D(256, (3, 3), activation='relu', padding='same', kernel_initializer='he_normal')(conv)\n",
    "    conv = layers.Conv2D(256, (3, 3), activation='relu', padding='same', kernel_initializer='he_normal')(conv)\n",
    "    conv = layers.MaxPooling2D(pool_size=(1, 2))(conv)\n",
    "    conv = layers.Conv2D(512, (3, 3), activation='relu', padding='same', kernel_initializer='he_normal')(conv)\n",
    "    conv = layers.BatchNormalization()(conv)\n",
    "    conv = layers.Conv2D(512, (3, 3), activation='relu', padding='same', kernel_initializer='he_normal')(conv)\n",
    "    conv = layers.BatchNormalization()(conv)\n",
    "    conv = layers.MaxPooling2D(pool_size=(1, 2))(conv)     \n",
    "    feature = layers.Conv2D(512, (2, 2), activation='relu', kernel_initializer='he_normal')(conv)\n",
    "    sequnce = layers.Reshape(target_shape=(24, 512))(feature)\n",
    "    sequnce = layers.Dense(64, activation='relu')(sequnce)\n",
    "    sequnce = layers.Bidirectional(layers.LSTM(256, return_sequences=True))(sequnce)\n",
    "    sequnce = layers.Bidirectional(layers.LSTM(256, return_sequences=True))(sequnce)\n",
    "    y_pred = layers.Dense(num_chars, activation='softmax', name='output')(sequnce)\n",
    "\n",
    "    labels = layers.Input(shape=[22], dtype='int64', name='label')\n",
    "    input_length = layers.Input(shape=[1], dtype='int64', name='input_length')\n",
    "    label_length = layers.Input(shape=[1], dtype='int64', name='label_length')\n",
    "    loss_out = layers.Lambda(ctc_lambda_func, output_shape=(1,), name=\"ctc\")(\n",
    "        [labels, y_pred, label_length, input_length]\n",
    "    )\n",
    "    model_input = [image_input, labels, input_length, label_length]\n",
    "    model = Model(\n",
    "        inputs=model_input,\n",
    "        outputs=loss_out\n",
    "    )\n",
    "    y_func = tf.keras.backend.function(image_input, [y_pred])\n",
    "    return model, y_func"
   ]
  },
  {
   "cell_type": "markdown",
   "id": "1cabd5c9",
   "metadata": {},
   "source": [
    "이제 앞에서 정의한 `MJDatasetSequence`로 데이터를 적절히 분리하여 구성된 데이터셋을 통해 학습을 시켜봅시다. 우리는 시간이 많지 않으니 적절한 Epoch를 설정하여 모델을 학습시켜봅시다! 1Epoch에 10초 정도 소요될 것입니다."
   ]
  },
  {
   "cell_type": "code",
   "execution_count": 10,
   "id": "00e6c502",
   "metadata": {},
   "outputs": [
    {
     "name": "stdout",
     "output_type": "stream",
     "text": [
      "Epoch 1/100\n",
      "63/63 [==============================] - 32s 161ms/step - loss: 33.4102 - val_loss: 26.9414\n",
      "\n",
      "Epoch 00001: val_loss improved from inf to 26.94144, saving model to /home/aiffel-dj40/aiffel/ocr/model_checkpoint.hdf5\n",
      "Epoch 2/100\n",
      "63/63 [==============================] - 9s 136ms/step - loss: 26.6863 - val_loss: 26.2800\n",
      "\n",
      "Epoch 00002: val_loss improved from 26.94144 to 26.27998, saving model to /home/aiffel-dj40/aiffel/ocr/model_checkpoint.hdf5\n",
      "Epoch 3/100\n",
      "63/63 [==============================] - 9s 138ms/step - loss: 25.9508 - val_loss: 26.4300\n",
      "\n",
      "Epoch 00003: val_loss did not improve from 26.27998\n",
      "Epoch 4/100\n",
      "63/63 [==============================] - 8s 129ms/step - loss: 25.8714 - val_loss: 25.8222\n",
      "\n",
      "Epoch 00004: val_loss improved from 26.27998 to 25.82221, saving model to /home/aiffel-dj40/aiffel/ocr/model_checkpoint.hdf5\n",
      "Epoch 5/100\n",
      "63/63 [==============================] - 9s 136ms/step - loss: 25.4876 - val_loss: 25.4890\n",
      "\n",
      "Epoch 00005: val_loss improved from 25.82221 to 25.48901, saving model to /home/aiffel-dj40/aiffel/ocr/model_checkpoint.hdf5\n",
      "Epoch 6/100\n",
      "63/63 [==============================] - 8s 130ms/step - loss: 25.2060 - val_loss: 26.5842\n",
      "\n",
      "Epoch 00006: val_loss did not improve from 25.48901\n",
      "Epoch 7/100\n",
      "63/63 [==============================] - 8s 130ms/step - loss: 24.7510 - val_loss: 25.5599\n",
      "\n",
      "Epoch 00007: val_loss did not improve from 25.48901\n",
      "Epoch 8/100\n",
      "63/63 [==============================] - 8s 130ms/step - loss: 24.0726 - val_loss: 25.9490\n",
      "\n",
      "Epoch 00008: val_loss did not improve from 25.48901\n",
      "Epoch 9/100\n",
      "63/63 [==============================] - 9s 136ms/step - loss: 23.8216 - val_loss: 24.6639\n",
      "\n",
      "Epoch 00009: val_loss improved from 25.48901 to 24.66390, saving model to /home/aiffel-dj40/aiffel/ocr/model_checkpoint.hdf5\n",
      "Epoch 10/100\n",
      "63/63 [==============================] - 8s 130ms/step - loss: 22.9987 - val_loss: 24.0355\n",
      "\n",
      "Epoch 00010: val_loss improved from 24.66390 to 24.03552, saving model to /home/aiffel-dj40/aiffel/ocr/model_checkpoint.hdf5\n",
      "Epoch 11/100\n",
      "63/63 [==============================] - 8s 130ms/step - loss: 22.1492 - val_loss: 22.4819\n",
      "\n",
      "Epoch 00011: val_loss improved from 24.03552 to 22.48188, saving model to /home/aiffel-dj40/aiffel/ocr/model_checkpoint.hdf5\n",
      "Epoch 12/100\n",
      "63/63 [==============================] - 9s 135ms/step - loss: 20.8732 - val_loss: 22.8813\n",
      "\n",
      "Epoch 00012: val_loss did not improve from 22.48188\n",
      "Epoch 13/100\n",
      "63/63 [==============================] - 8s 130ms/step - loss: 18.9343 - val_loss: 20.3571\n",
      "\n",
      "Epoch 00013: val_loss improved from 22.48188 to 20.35707, saving model to /home/aiffel-dj40/aiffel/ocr/model_checkpoint.hdf5\n",
      "Epoch 14/100\n",
      "63/63 [==============================] - 8s 131ms/step - loss: 16.6929 - val_loss: 16.1177\n",
      "\n",
      "Epoch 00014: val_loss improved from 20.35707 to 16.11774, saving model to /home/aiffel-dj40/aiffel/ocr/model_checkpoint.hdf5\n",
      "Epoch 15/100\n",
      "63/63 [==============================] - 9s 136ms/step - loss: 14.5472 - val_loss: 15.2874\n",
      "\n",
      "Epoch 00015: val_loss improved from 16.11774 to 15.28742, saving model to /home/aiffel-dj40/aiffel/ocr/model_checkpoint.hdf5\n",
      "Epoch 16/100\n",
      "63/63 [==============================] - 8s 130ms/step - loss: 12.6339 - val_loss: 12.7984\n",
      "\n",
      "Epoch 00016: val_loss improved from 15.28742 to 12.79837, saving model to /home/aiffel-dj40/aiffel/ocr/model_checkpoint.hdf5\n",
      "Epoch 17/100\n",
      "63/63 [==============================] - 8s 130ms/step - loss: 11.2753 - val_loss: 12.9874\n",
      "\n",
      "Epoch 00017: val_loss did not improve from 12.79837\n",
      "Epoch 18/100\n",
      "63/63 [==============================] - 9s 135ms/step - loss: 10.3222 - val_loss: 10.2842\n",
      "\n",
      "Epoch 00018: val_loss improved from 12.79837 to 10.28415, saving model to /home/aiffel-dj40/aiffel/ocr/model_checkpoint.hdf5\n",
      "Epoch 19/100\n",
      "63/63 [==============================] - 8s 130ms/step - loss: 9.5547 - val_loss: 10.0263\n",
      "\n",
      "Epoch 00019: val_loss improved from 10.28415 to 10.02628, saving model to /home/aiffel-dj40/aiffel/ocr/model_checkpoint.hdf5\n",
      "Epoch 20/100\n",
      "63/63 [==============================] - 8s 131ms/step - loss: 9.1710 - val_loss: 8.9158\n",
      "\n",
      "Epoch 00020: val_loss improved from 10.02628 to 8.91583, saving model to /home/aiffel-dj40/aiffel/ocr/model_checkpoint.hdf5\n",
      "Epoch 21/100\n",
      "63/63 [==============================] - 9s 135ms/step - loss: 8.6304 - val_loss: 8.5441\n",
      "\n",
      "Epoch 00021: val_loss improved from 8.91583 to 8.54405, saving model to /home/aiffel-dj40/aiffel/ocr/model_checkpoint.hdf5\n",
      "Epoch 22/100\n",
      "63/63 [==============================] - 8s 131ms/step - loss: 7.9780 - val_loss: 8.2033\n",
      "\n",
      "Epoch 00022: val_loss improved from 8.54405 to 8.20329, saving model to /home/aiffel-dj40/aiffel/ocr/model_checkpoint.hdf5\n",
      "Epoch 23/100\n",
      "63/63 [==============================] - 8s 130ms/step - loss: 7.6083 - val_loss: 7.7196\n",
      "\n",
      "Epoch 00023: val_loss improved from 8.20329 to 7.71956, saving model to /home/aiffel-dj40/aiffel/ocr/model_checkpoint.hdf5\n",
      "Epoch 24/100\n",
      "63/63 [==============================] - 9s 135ms/step - loss: 7.5253 - val_loss: 7.4885\n",
      "\n",
      "Epoch 00024: val_loss improved from 7.71956 to 7.48854, saving model to /home/aiffel-dj40/aiffel/ocr/model_checkpoint.hdf5\n",
      "Epoch 25/100\n",
      "63/63 [==============================] - 8s 130ms/step - loss: 6.9072 - val_loss: 7.4136\n",
      "\n",
      "Epoch 00025: val_loss improved from 7.48854 to 7.41357, saving model to /home/aiffel-dj40/aiffel/ocr/model_checkpoint.hdf5\n",
      "Epoch 26/100\n",
      "63/63 [==============================] - 8s 131ms/step - loss: 6.7668 - val_loss: 6.9160\n",
      "\n",
      "Epoch 00026: val_loss improved from 7.41357 to 6.91603, saving model to /home/aiffel-dj40/aiffel/ocr/model_checkpoint.hdf5\n",
      "Epoch 27/100\n",
      "63/63 [==============================] - 9s 136ms/step - loss: 6.5730 - val_loss: 6.7797\n",
      "\n",
      "Epoch 00027: val_loss improved from 6.91603 to 6.77965, saving model to /home/aiffel-dj40/aiffel/ocr/model_checkpoint.hdf5\n",
      "Epoch 28/100\n",
      "63/63 [==============================] - 8s 130ms/step - loss: 6.4128 - val_loss: 6.9075\n",
      "\n",
      "Epoch 00028: val_loss did not improve from 6.77965\n",
      "Epoch 29/100\n",
      "63/63 [==============================] - 8s 131ms/step - loss: 6.2179 - val_loss: 6.6610\n",
      "\n",
      "Epoch 00029: val_loss improved from 6.77965 to 6.66101, saving model to /home/aiffel-dj40/aiffel/ocr/model_checkpoint.hdf5\n",
      "Epoch 30/100\n",
      "63/63 [==============================] - 9s 135ms/step - loss: 6.2402 - val_loss: 6.1506\n",
      "\n",
      "Epoch 00030: val_loss improved from 6.66101 to 6.15060, saving model to /home/aiffel-dj40/aiffel/ocr/model_checkpoint.hdf5\n",
      "Epoch 31/100\n",
      "63/63 [==============================] - 8s 131ms/step - loss: 5.8967 - val_loss: 6.5360\n",
      "\n",
      "Epoch 00031: val_loss did not improve from 6.15060\n",
      "Epoch 32/100\n",
      "63/63 [==============================] - 8s 130ms/step - loss: 5.8788 - val_loss: 5.8818\n",
      "\n",
      "Epoch 00032: val_loss improved from 6.15060 to 5.88184, saving model to /home/aiffel-dj40/aiffel/ocr/model_checkpoint.hdf5\n",
      "Epoch 33/100\n",
      "63/63 [==============================] - 9s 135ms/step - loss: 5.8519 - val_loss: 5.9475\n",
      "\n",
      "Epoch 00033: val_loss did not improve from 5.88184\n",
      "Epoch 34/100\n",
      "63/63 [==============================] - 8s 131ms/step - loss: 5.5272 - val_loss: 5.5460\n",
      "\n",
      "Epoch 00034: val_loss improved from 5.88184 to 5.54605, saving model to /home/aiffel-dj40/aiffel/ocr/model_checkpoint.hdf5\n",
      "Epoch 35/100\n",
      "63/63 [==============================] - 8s 131ms/step - loss: 5.1640 - val_loss: 5.4036\n",
      "\n",
      "Epoch 00035: val_loss improved from 5.54605 to 5.40362, saving model to /home/aiffel-dj40/aiffel/ocr/model_checkpoint.hdf5\n",
      "Epoch 36/100\n",
      "63/63 [==============================] - 9s 136ms/step - loss: 5.1389 - val_loss: 5.3809\n",
      "\n",
      "Epoch 00036: val_loss improved from 5.40362 to 5.38085, saving model to /home/aiffel-dj40/aiffel/ocr/model_checkpoint.hdf5\n",
      "Epoch 37/100\n",
      "63/63 [==============================] - 8s 130ms/step - loss: 5.1827 - val_loss: 5.2414\n",
      "\n",
      "Epoch 00037: val_loss improved from 5.38085 to 5.24136, saving model to /home/aiffel-dj40/aiffel/ocr/model_checkpoint.hdf5\n",
      "Epoch 38/100\n",
      "63/63 [==============================] - 8s 130ms/step - loss: 4.9142 - val_loss: 5.2029\n",
      "\n",
      "Epoch 00038: val_loss improved from 5.24136 to 5.20293, saving model to /home/aiffel-dj40/aiffel/ocr/model_checkpoint.hdf5\n",
      "Epoch 39/100\n",
      "63/63 [==============================] - 9s 135ms/step - loss: 4.9649 - val_loss: 5.3782\n",
      "\n",
      "Epoch 00039: val_loss did not improve from 5.20293\n",
      "Epoch 40/100\n"
     ]
    },
    {
     "name": "stdout",
     "output_type": "stream",
     "text": [
      "63/63 [==============================] - 8s 129ms/step - loss: 4.7641 - val_loss: 5.0514\n",
      "\n",
      "Epoch 00040: val_loss improved from 5.20293 to 5.05143, saving model to /home/aiffel-dj40/aiffel/ocr/model_checkpoint.hdf5\n",
      "Epoch 41/100\n",
      "63/63 [==============================] - 8s 129ms/step - loss: 4.8113 - val_loss: 5.0218\n",
      "\n",
      "Epoch 00041: val_loss improved from 5.05143 to 5.02178, saving model to /home/aiffel-dj40/aiffel/ocr/model_checkpoint.hdf5\n",
      "Epoch 42/100\n",
      "63/63 [==============================] - 9s 135ms/step - loss: 4.6805 - val_loss: 4.9915\n",
      "\n",
      "Epoch 00042: val_loss improved from 5.02178 to 4.99147, saving model to /home/aiffel-dj40/aiffel/ocr/model_checkpoint.hdf5\n",
      "Epoch 43/100\n",
      "63/63 [==============================] - 8s 130ms/step - loss: 4.8496 - val_loss: 4.9007\n",
      "\n",
      "Epoch 00043: val_loss improved from 4.99147 to 4.90065, saving model to /home/aiffel-dj40/aiffel/ocr/model_checkpoint.hdf5\n",
      "Epoch 44/100\n",
      "63/63 [==============================] - 8s 130ms/step - loss: 4.4454 - val_loss: 4.7035\n",
      "\n",
      "Epoch 00044: val_loss improved from 4.90065 to 4.70354, saving model to /home/aiffel-dj40/aiffel/ocr/model_checkpoint.hdf5\n",
      "Epoch 45/100\n",
      "63/63 [==============================] - 9s 135ms/step - loss: 4.6234 - val_loss: 4.5711\n",
      "\n",
      "Epoch 00045: val_loss improved from 4.70354 to 4.57109, saving model to /home/aiffel-dj40/aiffel/ocr/model_checkpoint.hdf5\n",
      "Epoch 46/100\n",
      "63/63 [==============================] - 8s 130ms/step - loss: 4.3400 - val_loss: 4.6360\n",
      "\n",
      "Epoch 00046: val_loss did not improve from 4.57109\n",
      "Epoch 47/100\n",
      "63/63 [==============================] - 8s 129ms/step - loss: 4.4098 - val_loss: 4.6264\n",
      "\n",
      "Epoch 00047: val_loss did not improve from 4.57109\n",
      "Epoch 48/100\n",
      "63/63 [==============================] - 8s 129ms/step - loss: 4.4706 - val_loss: 4.6324\n",
      "\n",
      "Epoch 00048: val_loss did not improve from 4.57109\n",
      "Epoch 49/100\n",
      "63/63 [==============================] - 9s 135ms/step - loss: 4.3219 - val_loss: 4.4423\n",
      "\n",
      "Epoch 00049: val_loss improved from 4.57109 to 4.44234, saving model to /home/aiffel-dj40/aiffel/ocr/model_checkpoint.hdf5\n",
      "Epoch 50/100\n",
      "63/63 [==============================] - 8s 130ms/step - loss: 3.9121 - val_loss: 4.4203\n",
      "\n",
      "Epoch 00050: val_loss improved from 4.44234 to 4.42030, saving model to /home/aiffel-dj40/aiffel/ocr/model_checkpoint.hdf5\n",
      "Epoch 51/100\n",
      "63/63 [==============================] - 8s 129ms/step - loss: 4.3786 - val_loss: 4.4804\n",
      "\n",
      "Epoch 00051: val_loss did not improve from 4.42030\n",
      "Epoch 52/100\n",
      "63/63 [==============================] - 9s 135ms/step - loss: 4.0241 - val_loss: 4.1667\n",
      "\n",
      "Epoch 00052: val_loss improved from 4.42030 to 4.16674, saving model to /home/aiffel-dj40/aiffel/ocr/model_checkpoint.hdf5\n",
      "Epoch 53/100\n",
      "63/63 [==============================] - 8s 130ms/step - loss: 4.1798 - val_loss: 4.1328\n",
      "\n",
      "Epoch 00053: val_loss improved from 4.16674 to 4.13279, saving model to /home/aiffel-dj40/aiffel/ocr/model_checkpoint.hdf5\n",
      "Epoch 54/100\n",
      "63/63 [==============================] - 8s 129ms/step - loss: 3.9670 - val_loss: 4.1925\n",
      "\n",
      "Epoch 00054: val_loss did not improve from 4.13279\n",
      "Epoch 55/100\n",
      "63/63 [==============================] - 9s 135ms/step - loss: 3.9769 - val_loss: 4.1103\n",
      "\n",
      "Epoch 00055: val_loss improved from 4.13279 to 4.11029, saving model to /home/aiffel-dj40/aiffel/ocr/model_checkpoint.hdf5\n",
      "Epoch 56/100\n",
      "63/63 [==============================] - 8s 130ms/step - loss: 3.8142 - val_loss: 4.0447\n",
      "\n",
      "Epoch 00056: val_loss improved from 4.11029 to 4.04467, saving model to /home/aiffel-dj40/aiffel/ocr/model_checkpoint.hdf5\n",
      "Epoch 57/100\n",
      "63/63 [==============================] - 8s 129ms/step - loss: 3.9643 - val_loss: 4.0130\n",
      "\n",
      "Epoch 00057: val_loss improved from 4.04467 to 4.01297, saving model to /home/aiffel-dj40/aiffel/ocr/model_checkpoint.hdf5\n",
      "Epoch 58/100\n",
      "63/63 [==============================] - 9s 134ms/step - loss: 3.6448 - val_loss: 4.1096\n",
      "\n",
      "Epoch 00058: val_loss did not improve from 4.01297\n",
      "Epoch 59/100\n",
      "63/63 [==============================] - 8s 129ms/step - loss: 3.9997 - val_loss: 3.9337\n",
      "\n",
      "Epoch 00059: val_loss improved from 4.01297 to 3.93372, saving model to /home/aiffel-dj40/aiffel/ocr/model_checkpoint.hdf5\n",
      "Epoch 60/100\n",
      "63/63 [==============================] - 8s 129ms/step - loss: 3.8036 - val_loss: 3.9467\n",
      "\n",
      "Epoch 00060: val_loss did not improve from 3.93372\n",
      "Epoch 61/100\n",
      "63/63 [==============================] - 8s 129ms/step - loss: 3.5983 - val_loss: 3.9482\n",
      "\n",
      "Epoch 00061: val_loss did not improve from 3.93372\n",
      "Epoch 62/100\n",
      "63/63 [==============================] - 9s 135ms/step - loss: 3.7403 - val_loss: 3.9448\n",
      "\n",
      "Epoch 00062: val_loss did not improve from 3.93372\n",
      "Epoch 63/100\n",
      "63/63 [==============================] - 8s 129ms/step - loss: 3.5837 - val_loss: 4.0000\n",
      "\n",
      "Epoch 00063: val_loss did not improve from 3.93372\n",
      "Epoch 64/100\n",
      "63/63 [==============================] - 8s 129ms/step - loss: 3.4767 - val_loss: 3.6732\n",
      "\n",
      "Epoch 00064: val_loss improved from 3.93372 to 3.67320, saving model to /home/aiffel-dj40/aiffel/ocr/model_checkpoint.hdf5\n",
      "Epoch 65/100\n",
      "63/63 [==============================] - 8s 129ms/step - loss: 3.5433 - val_loss: 3.9812\n",
      "\n",
      "Epoch 00065: val_loss did not improve from 3.67320\n",
      "Epoch 66/100\n",
      "63/63 [==============================] - 9s 135ms/step - loss: 3.6772 - val_loss: 3.8101\n",
      "\n",
      "Epoch 00066: val_loss did not improve from 3.67320\n",
      "Epoch 67/100\n",
      "63/63 [==============================] - 8s 129ms/step - loss: 3.4875 - val_loss: 3.7692\n",
      "\n",
      "Epoch 00067: val_loss did not improve from 3.67320\n",
      "Epoch 68/100\n",
      "63/63 [==============================] - 8s 128ms/step - loss: 3.4075 - val_loss: 3.6589\n",
      "\n",
      "Epoch 00068: val_loss improved from 3.67320 to 3.65886, saving model to /home/aiffel-dj40/aiffel/ocr/model_checkpoint.hdf5\n",
      "Epoch 69/100\n",
      "63/63 [==============================] - 8s 128ms/step - loss: 3.5684 - val_loss: 3.5309\n",
      "\n",
      "Epoch 00069: val_loss improved from 3.65886 to 3.53086, saving model to /home/aiffel-dj40/aiffel/ocr/model_checkpoint.hdf5\n",
      "Epoch 70/100\n",
      "63/63 [==============================] - 9s 134ms/step - loss: 3.6753 - val_loss: 3.6286\n",
      "\n",
      "Epoch 00070: val_loss did not improve from 3.53086\n",
      "Epoch 71/100\n",
      "63/63 [==============================] - 8s 130ms/step - loss: 3.5004 - val_loss: 3.7700\n",
      "\n",
      "Epoch 00071: val_loss did not improve from 3.53086\n",
      "Epoch 72/100\n",
      "63/63 [==============================] - 8s 129ms/step - loss: 3.4016 - val_loss: 3.5191\n",
      "\n",
      "Epoch 00072: val_loss improved from 3.53086 to 3.51915, saving model to /home/aiffel-dj40/aiffel/ocr/model_checkpoint.hdf5\n",
      "Epoch 73/100\n",
      "63/63 [==============================] - 9s 135ms/step - loss: 3.3268 - val_loss: 3.7071\n",
      "\n",
      "Epoch 00073: val_loss did not improve from 3.51915\n",
      "Epoch 74/100\n",
      "63/63 [==============================] - 8s 128ms/step - loss: 3.4067 - val_loss: 3.4226\n",
      "\n",
      "Epoch 00074: val_loss improved from 3.51915 to 3.42260, saving model to /home/aiffel-dj40/aiffel/ocr/model_checkpoint.hdf5\n",
      "Epoch 75/100\n",
      "63/63 [==============================] - 8s 131ms/step - loss: 3.2494 - val_loss: 3.5612\n",
      "\n",
      "Epoch 00075: val_loss did not improve from 3.42260\n",
      "Epoch 76/100\n",
      "63/63 [==============================] - 8s 129ms/step - loss: 3.1085 - val_loss: 3.4359\n",
      "\n",
      "Epoch 00076: val_loss did not improve from 3.42260\n",
      "Epoch 77/100\n",
      "63/63 [==============================] - 9s 135ms/step - loss: 3.1265 - val_loss: 3.5697\n",
      "\n",
      "Epoch 00077: val_loss did not improve from 3.42260\n",
      "Epoch 78/100\n",
      "63/63 [==============================] - 8s 130ms/step - loss: 3.2522 - val_loss: 3.2722\n",
      "\n",
      "Epoch 00078: val_loss improved from 3.42260 to 3.27224, saving model to /home/aiffel-dj40/aiffel/ocr/model_checkpoint.hdf5\n",
      "Epoch 79/100\n",
      "63/63 [==============================] - 8s 130ms/step - loss: 3.2148 - val_loss: 3.4146\n",
      "\n",
      "Epoch 00079: val_loss did not improve from 3.27224\n",
      "Epoch 80/100\n",
      "63/63 [==============================] - 8s 129ms/step - loss: 3.2505 - val_loss: 3.3098\n",
      "\n",
      "Epoch 00080: val_loss did not improve from 3.27224\n",
      "Epoch 81/100\n",
      "63/63 [==============================] - 9s 135ms/step - loss: 3.1477 - val_loss: 3.3988\n",
      "\n",
      "Epoch 00081: val_loss did not improve from 3.27224\n",
      "Epoch 82/100\n",
      "63/63 [==============================] - 8s 129ms/step - loss: 3.3433 - val_loss: 3.4610\n",
      "\n",
      "Epoch 00082: val_loss did not improve from 3.27224\n",
      "Epoch 83/100\n",
      "63/63 [==============================] - 8s 129ms/step - loss: 3.3174 - val_loss: 3.3402\n",
      "\n",
      "Epoch 00083: val_loss did not improve from 3.27224\n"
     ]
    },
    {
     "name": "stdout",
     "output_type": "stream",
     "text": [
      "Epoch 84/100\n",
      "63/63 [==============================] - 8s 130ms/step - loss: 3.0709 - val_loss: 3.3570\n",
      "\n",
      "Epoch 00084: val_loss did not improve from 3.27224\n",
      "Epoch 85/100\n",
      "63/63 [==============================] - 9s 134ms/step - loss: 3.2325 - val_loss: 3.4084\n",
      "\n",
      "Epoch 00085: val_loss did not improve from 3.27224\n",
      "Epoch 86/100\n",
      "63/63 [==============================] - 8s 129ms/step - loss: 3.1245 - val_loss: 3.2401\n",
      "\n",
      "Epoch 00086: val_loss improved from 3.27224 to 3.24007, saving model to /home/aiffel-dj40/aiffel/ocr/model_checkpoint.hdf5\n",
      "Epoch 87/100\n",
      "63/63 [==============================] - 8s 129ms/step - loss: 3.0512 - val_loss: 3.2797\n",
      "\n",
      "Epoch 00087: val_loss did not improve from 3.24007\n",
      "Epoch 88/100\n",
      "63/63 [==============================] - 8s 129ms/step - loss: 2.9493 - val_loss: 3.3032\n",
      "\n",
      "Epoch 00088: val_loss did not improve from 3.24007\n",
      "Epoch 89/100\n",
      "63/63 [==============================] - 9s 135ms/step - loss: 3.1027 - val_loss: 3.1389\n",
      "\n",
      "Epoch 00089: val_loss improved from 3.24007 to 3.13888, saving model to /home/aiffel-dj40/aiffel/ocr/model_checkpoint.hdf5\n",
      "Epoch 90/100\n",
      "63/63 [==============================] - 8s 129ms/step - loss: 2.9603 - val_loss: 3.2553\n",
      "\n",
      "Epoch 00090: val_loss did not improve from 3.13888\n",
      "Epoch 91/100\n",
      "63/63 [==============================] - 8s 129ms/step - loss: 2.9855 - val_loss: 3.2126\n",
      "\n",
      "Epoch 00091: val_loss did not improve from 3.13888\n",
      "Epoch 92/100\n",
      "63/63 [==============================] - 8s 129ms/step - loss: 2.8781 - val_loss: 3.1555\n",
      "\n",
      "Epoch 00092: val_loss did not improve from 3.13888\n",
      "Epoch 93/100\n",
      "63/63 [==============================] - 9s 135ms/step - loss: 2.9263 - val_loss: 3.0574\n",
      "\n",
      "Epoch 00093: val_loss improved from 3.13888 to 3.05740, saving model to /home/aiffel-dj40/aiffel/ocr/model_checkpoint.hdf5\n",
      "Epoch 94/100\n",
      "63/63 [==============================] - 8s 129ms/step - loss: 3.0599 - val_loss: 3.0491\n",
      "\n",
      "Epoch 00094: val_loss improved from 3.05740 to 3.04908, saving model to /home/aiffel-dj40/aiffel/ocr/model_checkpoint.hdf5\n",
      "Epoch 95/100\n",
      "63/63 [==============================] - 8s 130ms/step - loss: 3.0525 - val_loss: 3.1053\n",
      "\n",
      "Epoch 00095: val_loss did not improve from 3.04908\n",
      "Epoch 96/100\n",
      "63/63 [==============================] - 9s 134ms/step - loss: 2.7180 - val_loss: 3.0206\n",
      "\n",
      "Epoch 00096: val_loss improved from 3.04908 to 3.02058, saving model to /home/aiffel-dj40/aiffel/ocr/model_checkpoint.hdf5\n",
      "Epoch 97/100\n",
      "63/63 [==============================] - 8s 129ms/step - loss: 2.9674 - val_loss: 3.0042\n",
      "\n",
      "Epoch 00097: val_loss improved from 3.02058 to 3.00424, saving model to /home/aiffel-dj40/aiffel/ocr/model_checkpoint.hdf5\n",
      "Epoch 98/100\n",
      "63/63 [==============================] - 8s 129ms/step - loss: 2.8732 - val_loss: 3.0713\n",
      "\n",
      "Epoch 00098: val_loss did not improve from 3.00424\n",
      "Epoch 99/100\n",
      "63/63 [==============================] - 9s 135ms/step - loss: 2.9094 - val_loss: 3.0035\n",
      "\n",
      "Epoch 00099: val_loss improved from 3.00424 to 3.00346, saving model to /home/aiffel-dj40/aiffel/ocr/model_checkpoint.hdf5\n",
      "Epoch 100/100\n",
      "63/63 [==============================] - 8s 129ms/step - loss: 3.0863 - val_loss: 2.9464\n",
      "\n",
      "Epoch 00100: val_loss improved from 3.00346 to 2.94637, saving model to /home/aiffel-dj40/aiffel/ocr/model_checkpoint.hdf5\n"
     ]
    },
    {
     "data": {
      "text/plain": [
       "<tensorflow.python.keras.callbacks.History at 0x7f338c09f190>"
      ]
     },
     "execution_count": 10,
     "metadata": {},
     "output_type": "execute_result"
    }
   ],
   "source": [
    "train_set = MJDatasetSequence(TRAIN_DATA_PATH, label_converter, batch_size=BATCH_SIZE, character=TARGET_CHARACTERS, is_train=True)\n",
    "val_set = MJDatasetSequence(VALID_DATA_PATH, label_converter, batch_size=BATCH_SIZE, character=TARGET_CHARACTERS)\n",
    "\n",
    "checkpoint_path = HOME_DIR + '/model_checkpoint.hdf5'\n",
    "\n",
    "model, y_func = build_crnn_model()\n",
    "sgd = tf.keras.optimizers.Adadelta(lr=0.1, clipnorm=5)\n",
    "model.compile(loss={'ctc': lambda y_true, y_pred: y_pred}, optimizer=sgd)\n",
    "ckp = tf.keras.callbacks.ModelCheckpoint(\n",
    "    checkpoint_path, monitor='val_loss',\n",
    "    verbose=1, save_best_only=True, save_weights_only=True\n",
    ")\n",
    "earlystop = tf.keras.callbacks.EarlyStopping(\n",
    "    monitor='val_loss', min_delta=0, patience=10, verbose=0, mode='min'\n",
    ")\n",
    "model.fit(train_set,\n",
    "        steps_per_epoch=len(val_set),\n",
    "        epochs=100,\n",
    "        validation_data=val_set,\n",
    "        validation_steps=len(val_set),\n",
    "        callbacks=[ckp])"
   ]
  },
  {
   "cell_type": "markdown",
   "id": "b2b15501",
   "metadata": {},
   "source": [
    "이제 학습한 모델을 테스트셋에서 inference해보고 이를 눈으로 직접 확인해보세요!"
   ]
  },
  {
   "cell_type": "code",
   "execution_count": 11,
   "id": "b9c29a92",
   "metadata": {},
   "outputs": [
    {
     "name": "stdout",
     "output_type": "stream",
     "text": [
      "Result: \t SLINKING9999999999999999\n"
     ]
    },
    {
     "data": {
      "image/png": "[encoded data removed]",
      "text/plain": [
       "<PIL.Image.Image image mode=RGB size=100x32 at 0x7F33801E23D0>"
      ]
     },
     "metadata": {},
     "output_type": "display_data"
    },
    {
     "name": "stdout",
     "output_type": "stream",
     "text": [
      "Result: \t ALEPPO99999999999999999\n"
     ]
    },
    {
     "data": {
      "image/png": "[encoded data removed]",
      "text/plain": [
       "<PIL.Image.Image image mode=RGB size=100x32 at 0x7F3442994AD0>"
      ]
     },
     "metadata": {},
     "output_type": "display_data"
    },
    {
     "name": "stdout",
     "output_type": "stream",
     "text": [
      "Result: \t RWANDA999999999999999999\n"
     ]
    },
    {
     "data": {
      "image/png": "[encoded data removed]",
      "text/plain": [
       "<PIL.Image.Image image mode=RGB size=100x32 at 0x7F34427F8490>"
      ]
     },
     "metadata": {},
     "output_type": "display_data"
    },
    {
     "name": "stdout",
     "output_type": "stream",
     "text": [
      "Result: \t NATHANS99999999999999999\n"
     ]
    },
    {
     "data": {
      "image/png": "[encoded data removed]",
      "text/plain": [
       "<PIL.Image.Image image mode=RGB size=100x32 at 0x7F3442823490>"
      ]
     },
     "metadata": {},
     "output_type": "display_data"
    },
    {
     "name": "stdout",
     "output_type": "stream",
     "text": [
      "Result: \t HALLEO99999999999999999\n"
     ]
    },
    {
     "data": {
      "image/png": "[encoded data removed]",
      "text/plain": [
       "<PIL.Image.Image image mode=RGB size=100x32 at 0x7F34427C3B50>"
      ]
     },
     "metadata": {},
     "output_type": "display_data"
    },
    {
     "name": "stdout",
     "output_type": "stream",
     "text": [
      "Result: \t HURLS9999999999999999999\n"
     ]
    },
    {
     "data": {
      "image/png": "[encoded data removed]",
      "text/plain": [
       "<PIL.Image.Image image mode=RGB size=100x32 at 0x7F34427C3690>"
      ]
     },
     "metadata": {},
     "output_type": "display_data"
    },
    {
     "name": "stdout",
     "output_type": "stream",
     "text": [
      "Result: \t DOWNSIZE9999999999999999\n"
     ]
    },
    {
     "data": {
      "image/png": "[encoded data removed]",
      "text/plain": [
       "<PIL.Image.Image image mode=RGB size=100x32 at 0x7F34427B9CD0>"
      ]
     },
     "metadata": {},
     "output_type": "display_data"
    },
    {
     "name": "stdout",
     "output_type": "stream",
     "text": [
      "Result: \t ROBOTIC99999999999999999\n"
     ]
    },
    {
     "data": {
      "image/png": "[encoded data removed]",
      "text/plain": [
       "<PIL.Image.Image image mode=RGB size=100x32 at 0x7F34376F29D0>"
      ]
     },
     "metadata": {},
     "output_type": "display_data"
    },
    {
     "name": "stdout",
     "output_type": "stream",
     "text": [
      "Result: \t SLOPPY99999999999999999\n"
     ]
    },
    {
     "data": {
      "image/png": "[encoded data removed]",
      "text/plain": [
       "<PIL.Image.Image image mode=RGB size=100x32 at 0x7F3437763190>"
      ]
     },
     "metadata": {},
     "output_type": "display_data"
    },
    {
     "name": "stdout",
     "output_type": "stream",
     "text": [
      "Result: \t HERMITE99999999999999999\n"
     ]
    },
    {
     "data": {
      "image/png": "[encoded data removed]",
      "text/plain": [
       "<PIL.Image.Image image mode=RGB size=100x32 at 0x7F3442986450>"
      ]
     },
     "metadata": {},
     "output_type": "display_data"
    }
   ],
   "source": [
    "from IPython.display import display\n",
    "\n",
    "test_set = MJDatasetSequence(TEST_DATA_PATH, label_converter, batch_size=BATCH_SIZE, character=TARGET_CHARACTERS)\n",
    "\n",
    "model, y_func = build_crnn_model()\n",
    "\n",
    "model.load_weights(checkpoint_path)\n",
    "input_data = model.get_layer('input_image').output\n",
    "y_pred = model.get_layer('output').output\n",
    "model_pred = Model(inputs=input_data, outputs=y_pred)\n",
    "\n",
    "def decode_predict_ctc(out, chars = TARGET_CHARACTERS, top_paths = 1):\n",
    "    results = []\n",
    "    beam_width = 5\n",
    "    if beam_width < top_paths:\n",
    "        beam_width = top_paths\n",
    "    for i in range(top_paths):\n",
    "        indexes = K.get_value(\n",
    "            K.ctc_decode(\n",
    "                out, input_length = np.ones(out.shape[0]) * out.shape[1],\n",
    "                greedy =False , beam_width = beam_width, top_paths = top_paths\n",
    "            )[0][i]\n",
    "        )[0]\n",
    "        text = \"\"\n",
    "        for index in indexes:\n",
    "            text += chars[index]\n",
    "        results.append(text)\n",
    "    return results\n",
    "\n",
    "def check_inference(model, dataset, index = 5):\n",
    "    for i in range(index):\n",
    "        inputs, outputs = dataset[i]\n",
    "        img = dataset[i][0]['input_image'][0:1,:,:,:]\n",
    "        output = model_pred.predict(img)\n",
    "        result = decode_predict_ctc(output, chars=\"-\"+TARGET_CHARACTERS)[0].replace('-','')\n",
    "        print(\"Result: \\t\", result)\n",
    "        display(Image.fromarray(img[0].transpose(1,0,2).astype(np.uint8)))\n",
    "\n",
    "check_inference(model, test_set, index=10)"
   ]
  },
  {
   "cell_type": "markdown",
   "id": "087a9b2e",
   "metadata": {},
   "source": [
    "## 프로젝트: End-to-End OCR\n",
    "![sample](https://aiffelstaticprd.blob.core.windows.net/media/images/e-23-4.sample.max-800x600.jpg)  \n",
    "\n",
    "keras OCR의 Detector class를 이용해서 이미지 내의 문자 위치를 찾아내는 함수를 만들어보도록 하겠습니다. 이를 위해서 keras-ocr을 설치해주고 Detector를 만들어주세요. 위의 사진 `sample.jpg`도 `ocr`폴더에 다운받으셔야합니다."
   ]
  },
  {
   "cell_type": "markdown",
   "id": "f353fe49",
   "metadata": {},
   "source": [
    "**이미지 경로를 받아 해당 이미지 내의 문자를 찾아내는 함수를 keras-ocr의 Detector를 이용해서 만들어보세요! inference한 후에는 이를 시각화하도록 합니다. 그리고 단어의 영역을 잘라오도록 해주세요.**"
   ]
  },
  {
   "cell_type": "code",
   "execution_count": 19,
   "id": "f1a37528",
   "metadata": {},
   "outputs": [],
   "source": [
    "import matplotlib.pyplot as plt\n",
    "import keras_ocr\n",
    "import cv2"
   ]
  },
  {
   "cell_type": "code",
   "execution_count": 15,
   "id": "798dd11c",
   "metadata": {},
   "outputs": [],
   "source": [
    "def detect_text(img_path):\n",
    "    pipeline = keras_ocr.pipeline.Pipeline()\n",
    "    \n",
    "    images = keras_ocr.tools.read(img_path)\n",
    "    predictions = pipeline.recognize([img_path])\n",
    "    \n",
    "    result_img = keras_ocr.tools.drawAnnotations(image=images, predictions=predictions[0])\n",
    "\n",
    "    cropped_imgs = []\n",
    "    revised_boxes = []\n",
    "    for _, box in predictions[0]:\n",
    "        revised_boxes.append(box)\n",
    "    boxes = revised_boxes\n",
    "\n",
    "    \n",
    "    for box in boxes:\n",
    "        cropped_imgs.append(keras_ocr.tools.warpBox(image=images, box=box))\n",
    "\n",
    "\n",
    "    return result_img, cropped_imgs"
   ]
  },
  {
   "cell_type": "code",
   "execution_count": 20,
   "id": "5a0d3fa1",
   "metadata": {},
   "outputs": [
    {
     "name": "stdout",
     "output_type": "stream",
     "text": [
      "Looking for /home/aiffel-dj40/.keras-ocr/craft_mlt_25k.h5\n",
      "Looking for /home/aiffel-dj40/.keras-ocr/crnn_kurapan.h5\n"
     ]
    },
    {
     "name": "stderr",
     "output_type": "stream",
     "text": [
      "/home/aiffel-dj40/Downloads/exit/envs/aiffel/lib/python3.7/site-packages/keras_ocr/tools.py:166: MatplotlibDeprecationWarning: The 's' parameter of annotate() has been renamed 'text' since Matplotlib 3.3; support for the old name will be dropped two minor releases later.\n",
      "  horizontalalignment='right' if side == 'left' else 'left')\n"
     ]
    },
    {
     "data": {
      "text/plain": [
       "<AxesSubplot:>"
      ]
     },
     "metadata": {},
     "output_type": "display_data"
    },
    {
     "data": {
      "image/png": "[encoded data removed]",
      "text/plain": [
       "<Figure size 432x288 with 1 Axes>"
      ]
     },
     "metadata": {},
     "output_type": "display_data"
    }
   ],
   "source": [
    "SAMPLE_IMG_PATH = os.getenv('HOME') + '/aiffel/ocr/sample.jpg'\n",
    "img_pil, cropped_img = detect_text(SAMPLE_IMG_PATH)\n",
    "display(img_pil)"
   ]
  },
  {
   "cell_type": "markdown",
   "id": "5c4c4cc0",
   "metadata": {},
   "source": [
    "이제 위에서 이미지 내의 단어 이미지를 얻었습니다. **그럼 Recognition model로 인식하는 함수를 직접 작성하고 그 결과를 출력해보세요!**"
   ]
  },
  {
   "cell_type": "code",
   "execution_count": 21,
   "id": "37bb8623",
   "metadata": {},
   "outputs": [],
   "source": [
    "def recognize_img(pil_img, input_img_size=(100,32)):\n",
    "    img90 = cv2.rotate(pil_img, cv2.ROTATE_90_COUNTERCLOCKWISE)\n",
    "    img_flip = cv2.flip(img90, 0)\n",
    "    pil_img = cv2.resize(img_flip, (32, 100), interpolation = cv2.INTER_CUBIC)\n",
    "    img = pil_img.reshape(1, 100, 32, 3)\n",
    "    output = model_pred.predict(img)\n",
    "    result = decode_predict_ctc(output, chars=\"-\"+TARGET_CHARACTERS)[0].replace('-','')\n",
    "    print(\"Result: \\t\", result)\n",
    "    display(Image.fromarray(img[0].transpose(1,0,2).astype(np.uint8)))"
   ]
  },
  {
   "cell_type": "code",
   "execution_count": 22,
   "id": "877fc84d",
   "metadata": {},
   "outputs": [
    {
     "name": "stdout",
     "output_type": "stream",
     "text": [
      "Result: \t WGTEI9999999999999999999\n"
     ]
    },
    {
     "data": {
      "image/png": "[encoded data removed]",
      "text/plain": [
       "<PIL.Image.Image image mode=RGB size=100x32 at 0x7F3268316AD0>"
      ]
     },
     "metadata": {},
     "output_type": "display_data"
    },
    {
     "name": "stdout",
     "output_type": "stream",
     "text": [
      "Result: \t SLEEPER9999999999999999\n"
     ]
    },
    {
     "data": {
      "image/png": "[encoded data removed]",
      "text/plain": [
       "<PIL.Image.Image image mode=RGB size=100x32 at 0x7F3268F0A4D0>"
      ]
     },
     "metadata": {},
     "output_type": "display_data"
    }
   ],
   "source": [
    "for _img in cropped_img:\n",
    "    recognize_img(_img)"
   ]
  },
  {
   "cell_type": "markdown",
   "id": "4e51c84e",
   "metadata": {},
   "source": [
    "# 루브릭 평가\n",
    "|평가문항|상세기준|\n",
    "|:---|:---|\n",
    "|1. Text recognition을 위해 특화된 데이터셋 구성이 체계적으로 진행되었다.|텍스트 이미지 리사이징, ctc loss 측정을 위한 라벨 인코딩, 배치처리 등이 적절히 수행되었다.|\n",
    "|2. CRNN 기반의 recognition 모델의 학습이 정상적으로 진행되었다.|학습결과 loss가 안정적으로 감소하고 대부분의 문자인식 추론 결과가 정확하다.|\n",
    "|3. keras-ocr detector와 CRNN recognizer를 엮어 원본 이미지 입력으로부터 text가 출력되는 OCR이 End-to-End로 구성되었다.|샘플 이미지를 원본으로 받아 OCR 수행 결과를 리턴하는 1개의 함수가 만들어졌다.|"
   ]
  }
 ],
 "metadata": {
  "kernelspec": {
   "display_name": "aiffel",
   "language": "python",
   "name": "aiffel"
  },
  "language_info": {
   "codemirror_mode": {
    "name": "ipython",
    "version": 3
   },
   "file_extension": ".py",
   "mimetype": "text/x-python",
   "name": "python",
   "nbconvert_exporter": "python",
   "pygments_lexer": "ipython3",
   "version": "3.7.10"
  }
 },
 "nbformat": 4,
 "nbformat_minor": 5
}
